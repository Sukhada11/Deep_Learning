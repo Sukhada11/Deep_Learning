{
 "cells": [
  {
   "cell_type": "markdown",
   "metadata": {
    "colab_type": "text",
    "id": "6yY-u1fMO3se"
   },
   "source": [
    "## Outline\n",
    "\n",
    "* Downloading dataset (CIFAR10)\n",
    "* `Dataloader` in `torch.utils`\n",
    "* Visualising images\n",
    "* Single and multiple convolutional layers\n",
    "* LeNet\n",
    "* Training LeNet\n",
    "* Training on GPU\n",
    "* Simple visualisation\n",
    "* Exercises"
   ]
  },
  {
   "cell_type": "code",
   "execution_count": 0,
   "metadata": {
    "colab": {},
    "colab_type": "code",
    "id": "ebTDFe6qZOS6"
   },
   "outputs": [],
   "source": [
    "import torch\n",
    "import matplotlib.pyplot as plt\n",
    "import numpy as np"
   ]
  },
  {
   "cell_type": "markdown",
   "metadata": {
    "colab_type": "text",
    "id": "v3RZSgGLO9iY"
   },
   "source": [
    "## Data loading"
   ]
  },
  {
   "cell_type": "code",
   "execution_count": 0,
   "metadata": {
    "colab": {},
    "colab_type": "code",
    "id": "fOgFtnl2ZXsx"
   },
   "outputs": [],
   "source": [
    "import torchvision\n",
    "import torchvision.transforms as transforms\n",
    "trainset =torchvision.datasets.MNIST(root='./data', train=True, \n",
    "                                        download=True, \n",
    "                                        transform=transforms.ToTensor())"
   ]
  },
  {
   "cell_type": "code",
   "execution_count": 0,
   "metadata": {
    "colab": {},
    "colab_type": "code",
    "id": "tjT-1-Uba1n-"
   },
   "outputs": [],
   "source": [
    "classes = ('0','1','2','3','4','5','6','7','8','9')"
   ]
  },
  {
   "cell_type": "code",
   "execution_count": 0,
   "metadata": {
    "colab": {},
    "colab_type": "code",
    "id": "dpU3_h-JaFi_"
   },
   "outputs": [],
   "source": [
    "trainloader = torch.utils.data.DataLoader(trainset, batch_size=256, shuffle=True)"
   ]
  },
  {
   "cell_type": "code",
   "execution_count": 5,
   "metadata": {
    "colab": {
     "base_uri": "https://localhost:8080/",
     "height": 68
    },
    "colab_type": "code",
    "id": "TGkggskRaXhz",
    "outputId": "5b8dc0be-b5c3-4487-e40f-7c319addc4e1"
   },
   "outputs": [
    {
     "name": "stdout",
     "output_type": "stream",
     "text": [
      "torch.Size([256, 1, 28, 28])\n",
      "torch.Size([1, 28, 28])\n",
      "1\n"
     ]
    }
   ],
   "source": [
    "dataiter = iter(trainloader)\n",
    "images, labels = dataiter.next()\n",
    "\n",
    "print(images.shape)\n",
    "\n",
    "print(images[1].shape)\n",
    "print(labels[1].item())"
   ]
  },
  {
   "cell_type": "markdown",
   "metadata": {
    "colab_type": "text",
    "id": "bQTsI03XPGId"
   },
   "source": [
    "## Visualise data"
   ]
  },
  {
   "cell_type": "code",
   "execution_count": 6,
   "metadata": {
    "colab": {
     "base_uri": "https://localhost:8080/",
     "height": 34
    },
    "colab_type": "code",
    "id": "RMLgzgf8PtN9",
    "outputId": "77e54120-9bba-4bda-e581-b5d8e6464dda"
   },
   "outputs": [
    {
     "name": "stdout",
     "output_type": "stream",
     "text": [
      "<class 'torch.Tensor'>\n"
     ]
    }
   ],
   "source": [
    "img = images[1]\n",
    "print(type(img))"
   ]
  },
  {
   "cell_type": "code",
   "execution_count": 7,
   "metadata": {
    "colab": {
     "base_uri": "https://localhost:8080/",
     "height": 34
    },
    "colab_type": "code",
    "id": "mXeB_gG9QIIW",
    "outputId": "9d1066e7-a5f3-4c89-82e9-1e37258bb39c"
   },
   "outputs": [
    {
     "name": "stdout",
     "output_type": "stream",
     "text": [
      "(1, 28, 28)\n"
     ]
    }
   ],
   "source": [
    "npimg = img.numpy()\n",
    "print(npimg.shape)"
   ]
  },
  {
   "cell_type": "code",
   "execution_count": 8,
   "metadata": {
    "colab": {
     "base_uri": "https://localhost:8080/",
     "height": 34
    },
    "colab_type": "code",
    "id": "T7MfJdNAQKmy",
    "outputId": "06d64c57-4a5d-4660-e75a-d7df4a97e22b"
   },
   "outputs": [
    {
     "name": "stdout",
     "output_type": "stream",
     "text": [
      "(28, 28, 1)\n"
     ]
    }
   ],
   "source": [
    "npimg = np.transpose(npimg, (1, 2, 0))\n",
    "print(npimg.shape)"
   ]
  },
  {
   "cell_type": "code",
   "execution_count": 9,
   "metadata": {
    "colab": {
     "base_uri": "https://localhost:8080/",
     "height": 106
    },
    "colab_type": "code",
    "id": "Xjh0IJNIQS4G",
    "outputId": "b2dddd86-5302-4ca9-85e6-7183db70eb36"
   },
   "outputs": [
    {
     "data": {
      "image/png": "[encoded data removed]",
      "text/plain": [
       "<Figure size 72x72 with 1 Axes>"
      ]
     },
     "metadata": {
      "tags": []
     },
     "output_type": "display_data"
    }
   ],
   "source": [
    "plt.figure(figsize = (1,1))\n",
    "plt.imshow(npimg.reshape(28,28))\n",
    "plt.show()"
   ]
  },
  {
   "cell_type": "code",
   "execution_count": 0,
   "metadata": {
    "colab": {},
    "colab_type": "code",
    "id": "ItDj5P3xZrX3"
   },
   "outputs": [],
   "source": [
    "def imshow(img):\n",
    "    npimg = img.numpy()\n",
    "    plt.imshow(np.transpose(npimg, (1, 2, 0)))\n",
    "    plt.show()"
   ]
  },
  {
   "cell_type": "code",
   "execution_count": 11,
   "metadata": {
    "colab": {
     "base_uri": "https://localhost:8080/",
     "height": 286
    },
    "colab_type": "code",
    "id": "vX2OhQjVhFVT",
    "outputId": "fc3f0799-2e6c-4ff1-e326-3b08bc4a8e66"
   },
   "outputs": [
    {
     "data": {
      "image/png": "[encoded data removed]",
      "text/plain": [
       "<Figure size 432x288 with 1 Axes>"
      ]
     },
     "metadata": {
      "tags": []
     },
     "output_type": "display_data"
    },
    {
     "name": "stdout",
     "output_type": "stream",
     "text": [
      "0 1 9 5\n"
     ]
    }
   ],
   "source": [
    "imshow(torchvision.utils.make_grid(images))\n",
    "print(' '.join(classes[labels[j]] for j in range(4)))"
   ]
  },
  {
   "cell_type": "markdown",
   "metadata": {
    "colab_type": "text",
    "id": "KIP5NFfgQfNo"
   },
   "source": [
    "## Single Convolutional Layer"
   ]
  },
  {
   "cell_type": "code",
   "execution_count": 0,
   "metadata": {
    "colab": {},
    "colab_type": "code",
    "id": "rehaPwlqaapX"
   },
   "outputs": [],
   "source": [
    "import torch.nn as nn\n",
    "\n",
    "class FirstCNN(nn.Module):\n",
    "    def __init__(self): \n",
    "        super(FirstCNN, self).__init__()\n",
    "        self.conv1 = nn.Conv2d(1, 16, 3, padding=(1,1), stride=(2,2)) #(no of channel,no of kernals kernals ,kernal size )# padding=(1,1), stride=(2,2))\n",
    "        \n",
    "    def forward(self, x):\n",
    "        x = self.conv1(x)\n",
    "        return x"
   ]
  },
  {
   "cell_type": "code",
   "execution_count": 0,
   "metadata": {
    "colab": {},
    "colab_type": "code",
    "id": "Gj33mJuCg8w-"
   },
   "outputs": [],
   "source": [
    "net = FirstCNN()"
   ]
  },
  {
   "cell_type": "code",
   "execution_count": 14,
   "metadata": {
    "colab": {
     "base_uri": "https://localhost:8080/",
     "height": 34
    },
    "colab_type": "code",
    "id": "BnAWY2-qg9jR",
    "outputId": "59261ae6-db89-45a2-bb39-c65d177fc6fc"
   },
   "outputs": [
    {
     "data": {
      "text/plain": [
       "torch.Size([256, 16, 14, 14])"
      ]
     },
     "execution_count": 14,
     "metadata": {
      "tags": []
     },
     "output_type": "execute_result"
    }
   ],
   "source": [
    "out = net(images)\n",
    "out.shape\n",
    "#batch size\n",
    "# no of op channels\n",
    "#dim of output (h,w)"
   ]
  },
  {
   "cell_type": "code",
   "execution_count": 15,
   "metadata": {
    "colab": {
     "base_uri": "https://localhost:8080/",
     "height": 51
    },
    "colab_type": "code",
    "id": "ynP7midTjfIn",
    "outputId": "dcfd0551-b889-4c87-c70d-db83a13b4fd9"
   },
   "outputs": [
    {
     "name": "stdout",
     "output_type": "stream",
     "text": [
      "torch.Size([16, 1, 3, 3])\n",
      "torch.Size([16])\n"
     ]
    }
   ],
   "source": [
    "for param in net.parameters():\n",
    "    print(param.shape)\n",
    "    #kernal no\n",
    "    # channel size\n",
    "    # dimensions\n",
    "    #bias"
   ]
  },
  {
   "cell_type": "code",
   "execution_count": 16,
   "metadata": {
    "colab": {
     "base_uri": "https://localhost:8080/",
     "height": 34
    },
    "colab_type": "code",
    "id": "aBYgoxzEia-D",
    "outputId": "feb15cf6-bf9d-4ad5-fb7b-4f4d86e68c94"
   },
   "outputs": [
    {
     "name": "stdout",
     "output_type": "stream",
     "text": [
      "(14, 14)\n"
     ]
    }
   ],
   "source": [
    "out1 = out[0, 0, :, :].detach().numpy()\n",
    "print(out1.shape)"
   ]
  },
  {
   "cell_type": "code",
   "execution_count": 17,
   "metadata": {
    "colab": {
     "base_uri": "https://localhost:8080/",
     "height": 269
    },
    "colab_type": "code",
    "id": "FG8Mqfw5i7hP",
    "outputId": "ff4ec77c-ef7f-49b0-8dfa-2e017d9d5369"
   },
   "outputs": [
    {
     "data": {
      "image/png": "[encoded data removed]",
      "text/plain": [
       "<Figure size 432x288 with 1 Axes>"
      ]
     },
     "metadata": {
      "tags": []
     },
     "output_type": "display_data"
    }
   ],
   "source": [
    "plt.imshow(out[0, 0, :, :].detach().numpy())\n",
    "plt.show()"
   ]
  },
  {
   "cell_type": "markdown",
   "metadata": {
    "colab_type": "text",
    "id": "Y6nSsRqRQ3sJ"
   },
   "source": [
    "## Deep Convolutional Network"
   ]
  },
  {
   "cell_type": "code",
   "execution_count": 0,
   "metadata": {
    "colab": {},
    "colab_type": "code",
    "id": "YtwIDsUUjH9h"
   },
   "outputs": [],
   "source": [
    "class FirstCNN_v2(nn.Module):\n",
    "    def __init__(self): \n",
    "        super(FirstCNN_v2, self).__init__()\n",
    "        self.model = nn.Sequential(\n",
    "            nn.Conv2d(1, 8, 3),   # (N, 3, 32, 32) -> (N, 8, 30, 30)\n",
    "            nn.Conv2d(8, 16, 3)   # (N, 8, 30, 30) -> (N, 16, 28, 28)\n",
    "        )\n",
    "        \n",
    "    def forward(self, x):\n",
    "        x = self.model(x)\n",
    "        return x"
   ]
  },
  {
   "cell_type": "code",
   "execution_count": 19,
   "metadata": {
    "colab": {
     "base_uri": "https://localhost:8080/",
     "height": 34
    },
    "colab_type": "code",
    "id": "1TlJtTMoliU3",
    "outputId": "5b5d72c0-540d-45f6-bcef-0ec94fe093b7"
   },
   "outputs": [
    {
     "data": {
      "text/plain": [
       "torch.Size([256, 16, 24, 24])"
      ]
     },
     "execution_count": 19,
     "metadata": {
      "tags": []
     },
     "output_type": "execute_result"
    }
   ],
   "source": [
    "net = FirstCNN_v2()\n",
    "out = net(images)\n",
    "out.shape"
   ]
  },
  {
   "cell_type": "code",
   "execution_count": 20,
   "metadata": {
    "colab": {
     "base_uri": "https://localhost:8080/",
     "height": 286
    },
    "colab_type": "code",
    "id": "jpPuOr1TlilH",
    "outputId": "fa29d8da-3d2f-470c-ec22-1f080c3573d0"
   },
   "outputs": [
    {
     "data": {
      "text/plain": [
       "<matplotlib.image.AxesImage at 0x7f1e5a8307f0>"
      ]
     },
     "execution_count": 20,
     "metadata": {
      "tags": []
     },
     "output_type": "execute_result"
    },
    {
     "data": {
      "image/png": "[encoded data removed]",
      "text/plain": [
       "<Figure size 432x288 with 1 Axes>"
      ]
     },
     "metadata": {
      "tags": []
     },
     "output_type": "display_data"
    }
   ],
   "source": [
    "plt.imshow(out[0, 0, :, :].detach().numpy())"
   ]
  },
  {
   "cell_type": "code",
   "execution_count": 0,
   "metadata": {
    "colab": {},
    "colab_type": "code",
    "id": "5GnYimnTmFyi"
   },
   "outputs": [],
   "source": [
    "class FirstCNN_v3(nn.Module):\n",
    "    def __init__(self): \n",
    "        super(FirstCNN_v3, self).__init__()\n",
    "        self.model = nn.Sequential(\n",
    "            nn.Conv2d(1, 6, 5),          # (N, 3, 32, 32) -> (N, 6, 28, 28)\n",
    "            nn.AvgPool2d(2, stride=2),   # (N, 6, 28, 28) -> (N, 6, 14, 14)\n",
    "            nn.Conv2d(6, 16, 5),         # (N, 6, 14, 14) -> (N, 16, 10, 10)\n",
    "            nn.AvgPool2d(2, stride=2)    # (N, 16, 10, 10) -> (N, 16, 5, 5)\n",
    "        )\n",
    "        \n",
    "    def forward(self, x):\n",
    "        x = self.model(x)\n",
    "        return x"
   ]
  },
  {
   "cell_type": "code",
   "execution_count": 22,
   "metadata": {
    "colab": {
     "base_uri": "https://localhost:8080/",
     "height": 34
    },
    "colab_type": "code",
    "id": "ldq1anrdmwox",
    "outputId": "edff268f-ae3b-4cd3-a98a-244fd827baab"
   },
   "outputs": [
    {
     "data": {
      "text/plain": [
       "torch.Size([256, 16, 4, 4])"
      ]
     },
     "execution_count": 22,
     "metadata": {
      "tags": []
     },
     "output_type": "execute_result"
    }
   ],
   "source": [
    "net = FirstCNN_v3()\n",
    "out = net(images)\n",
    "out.shape"
   ]
  },
  {
   "cell_type": "code",
   "execution_count": 23,
   "metadata": {
    "colab": {
     "base_uri": "https://localhost:8080/",
     "height": 286
    },
    "colab_type": "code",
    "id": "tOnUd7TyVunB",
    "outputId": "c2993c13-812c-446d-9204-3e1bf01952cf"
   },
   "outputs": [
    {
     "data": {
      "text/plain": [
       "<matplotlib.image.AxesImage at 0x7f1e5a783e10>"
      ]
     },
     "execution_count": 23,
     "metadata": {
      "tags": []
     },
     "output_type": "execute_result"
    },
    {
     "data": {
      "image/png": "[encoded data removed]",
      "text/plain": [
       "<Figure size 432x288 with 1 Axes>"
      ]
     },
     "metadata": {
      "tags": []
     },
     "output_type": "display_data"
    }
   ],
   "source": [
    "plt.imshow(out[0, 0, :, :].detach().numpy())"
   ]
  },
  {
   "cell_type": "markdown",
   "metadata": {
    "colab_type": "text",
    "id": "vymNQCrDQ7dM"
   },
   "source": [
    "## LeNet"
   ]
  },
  {
   "cell_type": "code",
   "execution_count": 0,
   "metadata": {
    "colab": {},
    "colab_type": "code",
    "id": "npS8lRGT15bx"
   },
   "outputs": [],
   "source": [
    "class LeNet(nn.Module):\n",
    "    def __init__(self): \n",
    "        super(LeNet, self).__init__()\n",
    "        self.cnn_model = nn.Sequential(\n",
    "            nn.Conv2d(1,6,5,padding=(2,2))     ,       #(N,1,28,28)->(N,6,28,28)\n",
    "           #  nn.Conv2d(3, 6, 5),         # (N, 3, 32, 32) -> (N,  6, 28, 28)\n",
    "            nn.Tanh(),\n",
    "            nn.AvgPool2d(2, stride=2),  # (N, 6, 28, 28) -> (N,  6, 14, 14)\n",
    "            nn.Conv2d(6, 16, 5),        # (N, 6, 14, 14) -> (N, 16, 10, 10)  \n",
    "            nn.Tanh(),\n",
    "            nn.AvgPool2d(2, stride=2)   # (N,16, 10, 10) -> (N, 16, 5, 5)\n",
    "        )\n",
    "        self.fc_model = nn.Sequential(\n",
    "            nn.Linear(400,120),         # (N, 400) -> (N, 120)\n",
    "            nn.Tanh(),\n",
    "            nn.Linear(120,84),          # (N, 120) -> (N, 84)\n",
    "            nn.Tanh(),\n",
    "            nn.Linear(84,10)            # (N, 84)  -> (N, 10)\n",
    "        )\n",
    "        \n",
    "    def forward(self, x):\n",
    "        print(x.shape)\n",
    "        x = self.cnn_model(x)\n",
    "        print(x.shape)\n",
    "        x = x.view(x.size(0), -1)\n",
    "        print(x.shape)\n",
    "        x = self.fc_model(x)\n",
    "        print(x.shape)\n",
    "        return x"
   ]
  },
  {
   "cell_type": "code",
   "execution_count": 25,
   "metadata": {
    "colab": {
     "base_uri": "https://localhost:8080/",
     "height": 102
    },
    "colab_type": "code",
    "id": "hruUII0sRIO4",
    "outputId": "cc72e9b9-71c2-4830-8ba3-d1e2223d02f2"
   },
   "outputs": [
    {
     "name": "stdout",
     "output_type": "stream",
     "text": [
      "torch.Size([256, 1, 28, 28])\n",
      "torch.Size([256, 16, 5, 5])\n",
      "torch.Size([256, 400])\n",
      "torch.Size([256, 10])\n"
     ]
    },
    {
     "data": {
      "text/plain": [
       "torch.Size([256, 6, 28, 28])"
      ]
     },
     "execution_count": 25,
     "metadata": {
      "tags": []
     },
     "output_type": "execute_result"
    }
   ],
   "source": [
    "net = LeNet()\n",
    "out = net(images)\n",
    "out = net.cnn_model[0](images)\n",
    "out.shape"
   ]
  },
  {
   "cell_type": "code",
   "execution_count": 26,
   "metadata": {
    "colab": {
     "base_uri": "https://localhost:8080/",
     "height": 5049
    },
    "colab_type": "code",
    "id": "2E66qlEzRapT",
    "outputId": "569ac838-8c04-446b-dbaa-a2798c9fc1c6"
   },
   "outputs": [
    {
     "name": "stdout",
     "output_type": "stream",
     "text": [
      "tensor([[[[ 0.1882,  0.1882,  0.1882,  ...,  0.1882,  0.1882,  0.1882],\n",
      "          [ 0.1882,  0.1882,  0.1882,  ...,  0.1882,  0.1882,  0.1882],\n",
      "          [ 0.1882,  0.1882,  0.1882,  ...,  0.1882,  0.1882,  0.1882],\n",
      "          ...,\n",
      "          [ 0.1882,  0.1882,  0.1882,  ...,  0.1882,  0.1882,  0.1882],\n",
      "          [ 0.1882,  0.1882,  0.1882,  ...,  0.1882,  0.1882,  0.1882],\n",
      "          [ 0.1882,  0.1882,  0.1882,  ...,  0.1882,  0.1882,  0.1882]],\n",
      "\n",
      "         [[ 0.1637,  0.1637,  0.1637,  ...,  0.1637,  0.1637,  0.1637],\n",
      "          [ 0.1637,  0.1637,  0.1637,  ...,  0.1637,  0.1637,  0.1637],\n",
      "          [ 0.1637,  0.1637,  0.1637,  ...,  0.1637,  0.1637,  0.1637],\n",
      "          ...,\n",
      "          [ 0.1637,  0.1637,  0.1637,  ...,  0.1637,  0.1637,  0.1637],\n",
      "          [ 0.1637,  0.1637,  0.1637,  ...,  0.1637,  0.1637,  0.1637],\n",
      "          [ 0.1637,  0.1637,  0.1637,  ...,  0.1637,  0.1637,  0.1637]],\n",
      "\n",
      "         [[-0.0040, -0.0040, -0.0040,  ..., -0.0040, -0.0040, -0.0040],\n",
      "          [-0.0040, -0.0040, -0.0040,  ..., -0.0040, -0.0040, -0.0040],\n",
      "          [-0.0040, -0.0040, -0.0040,  ..., -0.0040, -0.0040, -0.0040],\n",
      "          ...,\n",
      "          [-0.0040, -0.0040, -0.0040,  ..., -0.0040, -0.0040, -0.0040],\n",
      "          [-0.0040, -0.0040, -0.0040,  ..., -0.0040, -0.0040, -0.0040],\n",
      "          [-0.0040, -0.0040, -0.0040,  ..., -0.0040, -0.0040, -0.0040]],\n",
      "\n",
      "         [[ 0.1570,  0.1570,  0.1570,  ...,  0.1570,  0.1570,  0.1570],\n",
      "          [ 0.1570,  0.1570,  0.1570,  ...,  0.1570,  0.1570,  0.1570],\n",
      "          [ 0.1570,  0.1570,  0.1570,  ...,  0.1570,  0.1570,  0.1570],\n",
      "          ...,\n",
      "          [ 0.1570,  0.1570,  0.1570,  ...,  0.1570,  0.1570,  0.1570],\n",
      "          [ 0.1570,  0.1570,  0.1570,  ...,  0.1570,  0.1570,  0.1570],\n",
      "          [ 0.1570,  0.1570,  0.1570,  ...,  0.1570,  0.1570,  0.1570]],\n",
      "\n",
      "         [[ 0.1301,  0.1301,  0.1301,  ...,  0.1301,  0.1301,  0.1301],\n",
      "          [ 0.1301,  0.1301,  0.1301,  ...,  0.1301,  0.1301,  0.1301],\n",
      "          [ 0.1301,  0.1301,  0.1301,  ...,  0.1301,  0.1301,  0.1301],\n",
      "          ...,\n",
      "          [ 0.1301,  0.1301,  0.1301,  ...,  0.1301,  0.1301,  0.1301],\n",
      "          [ 0.1301,  0.1301,  0.1301,  ...,  0.1301,  0.1301,  0.1301],\n",
      "          [ 0.1301,  0.1301,  0.1301,  ...,  0.1301,  0.1301,  0.1301]],\n",
      "\n",
      "         [[ 0.1578,  0.1578,  0.1578,  ...,  0.1578,  0.1578,  0.1578],\n",
      "          [ 0.1578,  0.1578,  0.1578,  ...,  0.1578,  0.1578,  0.1578],\n",
      "          [ 0.1578,  0.1578,  0.1578,  ...,  0.1578,  0.1578,  0.1578],\n",
      "          ...,\n",
      "          [ 0.1578,  0.1578,  0.1578,  ...,  0.1578,  0.1578,  0.1578],\n",
      "          [ 0.1578,  0.1578,  0.1578,  ...,  0.1578,  0.1578,  0.1578],\n",
      "          [ 0.1578,  0.1578,  0.1578,  ...,  0.1578,  0.1578,  0.1578]]],\n",
      "\n",
      "\n",
      "        [[[ 0.1882,  0.1882,  0.1882,  ...,  0.1882,  0.1882,  0.1882],\n",
      "          [ 0.1882,  0.1882,  0.1882,  ...,  0.1882,  0.1882,  0.1882],\n",
      "          [ 0.1882,  0.1882,  0.1882,  ...,  0.1882,  0.1882,  0.1882],\n",
      "          ...,\n",
      "          [ 0.1882,  0.1882,  0.1882,  ...,  0.1882,  0.1882,  0.1882],\n",
      "          [ 0.1882,  0.1882,  0.1882,  ...,  0.1882,  0.1882,  0.1882],\n",
      "          [ 0.1882,  0.1882,  0.1882,  ...,  0.1882,  0.1882,  0.1882]],\n",
      "\n",
      "         [[ 0.1637,  0.1637,  0.1637,  ...,  0.1637,  0.1637,  0.1637],\n",
      "          [ 0.1637,  0.1637,  0.1637,  ...,  0.1637,  0.1637,  0.1637],\n",
      "          [ 0.1637,  0.1637,  0.1637,  ...,  0.1637,  0.1637,  0.1637],\n",
      "          ...,\n",
      "          [ 0.1637,  0.1637,  0.1637,  ...,  0.1637,  0.1637,  0.1637],\n",
      "          [ 0.1637,  0.1637,  0.1637,  ...,  0.1637,  0.1637,  0.1637],\n",
      "          [ 0.1637,  0.1637,  0.1637,  ...,  0.1637,  0.1637,  0.1637]],\n",
      "\n",
      "         [[-0.0040, -0.0040, -0.0040,  ..., -0.0040, -0.0040, -0.0040],\n",
      "          [-0.0040, -0.0040, -0.0040,  ..., -0.0040, -0.0040, -0.0040],\n",
      "          [-0.0040, -0.0040, -0.0040,  ..., -0.0040, -0.0040, -0.0040],\n",
      "          ...,\n",
      "          [-0.0040, -0.0040, -0.0040,  ..., -0.0040, -0.0040, -0.0040],\n",
      "          [-0.0040, -0.0040, -0.0040,  ..., -0.0040, -0.0040, -0.0040],\n",
      "          [-0.0040, -0.0040, -0.0040,  ..., -0.0040, -0.0040, -0.0040]],\n",
      "\n",
      "         [[ 0.1570,  0.1570,  0.1570,  ...,  0.1570,  0.1570,  0.1570],\n",
      "          [ 0.1570,  0.1570,  0.1570,  ...,  0.1570,  0.1570,  0.1570],\n",
      "          [ 0.1570,  0.1570,  0.1570,  ...,  0.1570,  0.1570,  0.1570],\n",
      "          ...,\n",
      "          [ 0.1570,  0.1570,  0.1570,  ...,  0.1570,  0.1570,  0.1570],\n",
      "          [ 0.1570,  0.1570,  0.1570,  ...,  0.1570,  0.1570,  0.1570],\n",
      "          [ 0.1570,  0.1570,  0.1570,  ...,  0.1570,  0.1570,  0.1570]],\n",
      "\n",
      "         [[ 0.1301,  0.1301,  0.1301,  ...,  0.1301,  0.1301,  0.1301],\n",
      "          [ 0.1301,  0.1301,  0.1301,  ...,  0.1301,  0.1301,  0.1301],\n",
      "          [ 0.1301,  0.1301,  0.1301,  ...,  0.1301,  0.1301,  0.1301],\n",
      "          ...,\n",
      "          [ 0.1301,  0.1301,  0.1301,  ...,  0.1301,  0.1301,  0.1301],\n",
      "          [ 0.1301,  0.1301,  0.1301,  ...,  0.1301,  0.1301,  0.1301],\n",
      "          [ 0.1301,  0.1301,  0.1301,  ...,  0.1301,  0.1301,  0.1301]],\n",
      "\n",
      "         [[ 0.1578,  0.1578,  0.1578,  ...,  0.1578,  0.1578,  0.1578],\n",
      "          [ 0.1578,  0.1578,  0.1578,  ...,  0.1578,  0.1578,  0.1578],\n",
      "          [ 0.1578,  0.1578,  0.1578,  ...,  0.1578,  0.1578,  0.1578],\n",
      "          ...,\n",
      "          [ 0.1578,  0.1578,  0.1578,  ...,  0.1578,  0.1578,  0.1578],\n",
      "          [ 0.1578,  0.1578,  0.1578,  ...,  0.1578,  0.1578,  0.1578],\n",
      "          [ 0.1578,  0.1578,  0.1578,  ...,  0.1578,  0.1578,  0.1578]]],\n",
      "\n",
      "\n",
      "        [[[ 0.1882,  0.1882,  0.1882,  ...,  0.1882,  0.1882,  0.1882],\n",
      "          [ 0.1882,  0.1882,  0.1882,  ...,  0.1882,  0.1882,  0.1882],\n",
      "          [ 0.1882,  0.1882,  0.1882,  ...,  0.1882,  0.1882,  0.1882],\n",
      "          ...,\n",
      "          [ 0.1882,  0.1882,  0.1882,  ...,  0.1882,  0.1882,  0.1882],\n",
      "          [ 0.1882,  0.1882,  0.1882,  ...,  0.1882,  0.1882,  0.1882],\n",
      "          [ 0.1882,  0.1882,  0.1882,  ...,  0.1882,  0.1882,  0.1882]],\n",
      "\n",
      "         [[ 0.1637,  0.1637,  0.1637,  ...,  0.1637,  0.1637,  0.1637],\n",
      "          [ 0.1637,  0.1637,  0.1637,  ...,  0.1637,  0.1637,  0.1637],\n",
      "          [ 0.1637,  0.1637,  0.1637,  ...,  0.1637,  0.1637,  0.1637],\n",
      "          ...,\n",
      "          [ 0.1637,  0.1637,  0.1637,  ...,  0.1637,  0.1637,  0.1637],\n",
      "          [ 0.1637,  0.1637,  0.1637,  ...,  0.1637,  0.1637,  0.1637],\n",
      "          [ 0.1637,  0.1637,  0.1637,  ...,  0.1637,  0.1637,  0.1637]],\n",
      "\n",
      "         [[-0.0040, -0.0040, -0.0040,  ..., -0.0040, -0.0040, -0.0040],\n",
      "          [-0.0040, -0.0040, -0.0040,  ..., -0.0040, -0.0040, -0.0040],\n",
      "          [-0.0040, -0.0040, -0.0040,  ..., -0.0040, -0.0040, -0.0040],\n",
      "          ...,\n",
      "          [-0.0040, -0.0040, -0.0040,  ..., -0.0040, -0.0040, -0.0040],\n",
      "          [-0.0040, -0.0040, -0.0040,  ..., -0.0040, -0.0040, -0.0040],\n",
      "          [-0.0040, -0.0040, -0.0040,  ..., -0.0040, -0.0040, -0.0040]],\n",
      "\n",
      "         [[ 0.1570,  0.1570,  0.1570,  ...,  0.1570,  0.1570,  0.1570],\n",
      "          [ 0.1570,  0.1570,  0.1570,  ...,  0.1570,  0.1570,  0.1570],\n",
      "          [ 0.1570,  0.1570,  0.1570,  ...,  0.1570,  0.1570,  0.1570],\n",
      "          ...,\n",
      "          [ 0.1570,  0.1570,  0.1570,  ...,  0.1570,  0.1570,  0.1570],\n",
      "          [ 0.1570,  0.1570,  0.1570,  ...,  0.1570,  0.1570,  0.1570],\n",
      "          [ 0.1570,  0.1570,  0.1570,  ...,  0.1570,  0.1570,  0.1570]],\n",
      "\n",
      "         [[ 0.1301,  0.1301,  0.1301,  ...,  0.1301,  0.1301,  0.1301],\n",
      "          [ 0.1301,  0.1301,  0.1301,  ...,  0.1301,  0.1301,  0.1301],\n",
      "          [ 0.1301,  0.1301,  0.1301,  ...,  0.1301,  0.1301,  0.1301],\n",
      "          ...,\n",
      "          [ 0.1301,  0.1301,  0.1301,  ...,  0.1301,  0.1301,  0.1301],\n",
      "          [ 0.1301,  0.1301,  0.1301,  ...,  0.1301,  0.1301,  0.1301],\n",
      "          [ 0.1301,  0.1301,  0.1301,  ...,  0.1301,  0.1301,  0.1301]],\n",
      "\n",
      "         [[ 0.1578,  0.1578,  0.1578,  ...,  0.1578,  0.1578,  0.1578],\n",
      "          [ 0.1578,  0.1578,  0.1578,  ...,  0.1578,  0.1578,  0.1578],\n",
      "          [ 0.1578,  0.1578,  0.1578,  ...,  0.1578,  0.1578,  0.1578],\n",
      "          ...,\n",
      "          [ 0.1578,  0.1578,  0.1578,  ...,  0.1578,  0.1578,  0.1578],\n",
      "          [ 0.1578,  0.1578,  0.1578,  ...,  0.1578,  0.1578,  0.1578],\n",
      "          [ 0.1578,  0.1578,  0.1578,  ...,  0.1578,  0.1578,  0.1578]]],\n",
      "\n",
      "\n",
      "        ...,\n",
      "\n",
      "\n",
      "        [[[ 0.1882,  0.1882,  0.1882,  ...,  0.1882,  0.1882,  0.1882],\n",
      "          [ 0.1882,  0.1882,  0.1882,  ...,  0.1882,  0.1882,  0.1882],\n",
      "          [ 0.1882,  0.1882,  0.1882,  ...,  0.1882,  0.1882,  0.1882],\n",
      "          ...,\n",
      "          [ 0.1882,  0.1882,  0.1882,  ...,  0.1882,  0.1882,  0.1882],\n",
      "          [ 0.1882,  0.1882,  0.1882,  ...,  0.1882,  0.1882,  0.1882],\n",
      "          [ 0.1882,  0.1882,  0.1882,  ...,  0.1882,  0.1882,  0.1882]],\n",
      "\n",
      "         [[ 0.1637,  0.1637,  0.1637,  ...,  0.1637,  0.1637,  0.1637],\n",
      "          [ 0.1637,  0.1637,  0.1637,  ...,  0.1637,  0.1637,  0.1637],\n",
      "          [ 0.1637,  0.1637,  0.1637,  ...,  0.1637,  0.1637,  0.1637],\n",
      "          ...,\n",
      "          [ 0.1637,  0.1637,  0.1637,  ...,  0.1637,  0.1637,  0.1637],\n",
      "          [ 0.1637,  0.1637,  0.1637,  ...,  0.1637,  0.1637,  0.1637],\n",
      "          [ 0.1637,  0.1637,  0.1637,  ...,  0.1637,  0.1637,  0.1637]],\n",
      "\n",
      "         [[-0.0040, -0.0040, -0.0040,  ..., -0.0040, -0.0040, -0.0040],\n",
      "          [-0.0040, -0.0040, -0.0040,  ..., -0.0040, -0.0040, -0.0040],\n",
      "          [-0.0040, -0.0040, -0.0040,  ..., -0.0040, -0.0040, -0.0040],\n",
      "          ...,\n",
      "          [-0.0040, -0.0040, -0.0040,  ..., -0.0040, -0.0040, -0.0040],\n",
      "          [-0.0040, -0.0040, -0.0040,  ..., -0.0040, -0.0040, -0.0040],\n",
      "          [-0.0040, -0.0040, -0.0040,  ..., -0.0040, -0.0040, -0.0040]],\n",
      "\n",
      "         [[ 0.1570,  0.1570,  0.1570,  ...,  0.1570,  0.1570,  0.1570],\n",
      "          [ 0.1570,  0.1570,  0.1570,  ...,  0.1570,  0.1570,  0.1570],\n",
      "          [ 0.1570,  0.1570,  0.1570,  ...,  0.1570,  0.1570,  0.1570],\n",
      "          ...,\n",
      "          [ 0.1570,  0.1570,  0.1570,  ...,  0.1570,  0.1570,  0.1570],\n",
      "          [ 0.1570,  0.1570,  0.1570,  ...,  0.1570,  0.1570,  0.1570],\n",
      "          [ 0.1570,  0.1570,  0.1570,  ...,  0.1570,  0.1570,  0.1570]],\n",
      "\n",
      "         [[ 0.1301,  0.1301,  0.1301,  ...,  0.1301,  0.1301,  0.1301],\n",
      "          [ 0.1301,  0.1301,  0.1301,  ...,  0.1301,  0.1301,  0.1301],\n",
      "          [ 0.1301,  0.1301,  0.1301,  ...,  0.1301,  0.1301,  0.1301],\n",
      "          ...,\n",
      "          [ 0.1301,  0.1301,  0.1301,  ...,  0.1301,  0.1301,  0.1301],\n",
      "          [ 0.1301,  0.1301,  0.1301,  ...,  0.1301,  0.1301,  0.1301],\n",
      "          [ 0.1301,  0.1301,  0.1301,  ...,  0.1301,  0.1301,  0.1301]],\n",
      "\n",
      "         [[ 0.1578,  0.1578,  0.1578,  ...,  0.1578,  0.1578,  0.1578],\n",
      "          [ 0.1578,  0.1578,  0.1578,  ...,  0.1578,  0.1578,  0.1578],\n",
      "          [ 0.1578,  0.1578,  0.1578,  ...,  0.1578,  0.1578,  0.1578],\n",
      "          ...,\n",
      "          [ 0.1578,  0.1578,  0.1578,  ...,  0.1578,  0.1578,  0.1578],\n",
      "          [ 0.1578,  0.1578,  0.1578,  ...,  0.1578,  0.1578,  0.1578],\n",
      "          [ 0.1578,  0.1578,  0.1578,  ...,  0.1578,  0.1578,  0.1578]]],\n",
      "\n",
      "\n",
      "        [[[ 0.1882,  0.1882,  0.1882,  ...,  0.1882,  0.1882,  0.1882],\n",
      "          [ 0.1882,  0.1882,  0.1882,  ...,  0.1882,  0.1882,  0.1882],\n",
      "          [ 0.1882,  0.1882,  0.1882,  ...,  0.1882,  0.1882,  0.1882],\n",
      "          ...,\n",
      "          [ 0.1882,  0.1882,  0.1882,  ...,  0.1882,  0.1882,  0.1882],\n",
      "          [ 0.1882,  0.1882,  0.1882,  ...,  0.1882,  0.1882,  0.1882],\n",
      "          [ 0.1882,  0.1882,  0.1882,  ...,  0.1882,  0.1882,  0.1882]],\n",
      "\n",
      "         [[ 0.1637,  0.1637,  0.1637,  ...,  0.1637,  0.1637,  0.1637],\n",
      "          [ 0.1637,  0.1637,  0.1637,  ...,  0.1637,  0.1637,  0.1637],\n",
      "          [ 0.1637,  0.1637,  0.1637,  ...,  0.1637,  0.1637,  0.1637],\n",
      "          ...,\n",
      "          [ 0.1637,  0.1637,  0.1637,  ...,  0.1637,  0.1637,  0.1637],\n",
      "          [ 0.1637,  0.1637,  0.1637,  ...,  0.1637,  0.1637,  0.1637],\n",
      "          [ 0.1637,  0.1637,  0.1637,  ...,  0.1637,  0.1637,  0.1637]],\n",
      "\n",
      "         [[-0.0040, -0.0040, -0.0040,  ..., -0.0040, -0.0040, -0.0040],\n",
      "          [-0.0040, -0.0040, -0.0040,  ..., -0.0040, -0.0040, -0.0040],\n",
      "          [-0.0040, -0.0040, -0.0040,  ..., -0.0040, -0.0040, -0.0040],\n",
      "          ...,\n",
      "          [-0.0040, -0.0040, -0.0040,  ..., -0.0040, -0.0040, -0.0040],\n",
      "          [-0.0040, -0.0040, -0.0040,  ..., -0.0040, -0.0040, -0.0040],\n",
      "          [-0.0040, -0.0040, -0.0040,  ..., -0.0040, -0.0040, -0.0040]],\n",
      "\n",
      "         [[ 0.1570,  0.1570,  0.1570,  ...,  0.1570,  0.1570,  0.1570],\n",
      "          [ 0.1570,  0.1570,  0.1570,  ...,  0.1570,  0.1570,  0.1570],\n",
      "          [ 0.1570,  0.1570,  0.1570,  ...,  0.1570,  0.1570,  0.1570],\n",
      "          ...,\n",
      "          [ 0.1570,  0.1570,  0.1570,  ...,  0.1570,  0.1570,  0.1570],\n",
      "          [ 0.1570,  0.1570,  0.1570,  ...,  0.1570,  0.1570,  0.1570],\n",
      "          [ 0.1570,  0.1570,  0.1570,  ...,  0.1570,  0.1570,  0.1570]],\n",
      "\n",
      "         [[ 0.1301,  0.1301,  0.1301,  ...,  0.1301,  0.1301,  0.1301],\n",
      "          [ 0.1301,  0.1301,  0.1301,  ...,  0.1301,  0.1301,  0.1301],\n",
      "          [ 0.1301,  0.1301,  0.1301,  ...,  0.1301,  0.1301,  0.1301],\n",
      "          ...,\n",
      "          [ 0.1301,  0.1301,  0.1301,  ...,  0.1301,  0.1301,  0.1301],\n",
      "          [ 0.1301,  0.1301,  0.1301,  ...,  0.1301,  0.1301,  0.1301],\n",
      "          [ 0.1301,  0.1301,  0.1301,  ...,  0.1301,  0.1301,  0.1301]],\n",
      "\n",
      "         [[ 0.1578,  0.1578,  0.1578,  ...,  0.1578,  0.1578,  0.1578],\n",
      "          [ 0.1578,  0.1578,  0.1578,  ...,  0.1578,  0.1578,  0.1578],\n",
      "          [ 0.1578,  0.1578,  0.1578,  ...,  0.1578,  0.1578,  0.1578],\n",
      "          ...,\n",
      "          [ 0.1578,  0.1578,  0.1578,  ...,  0.1578,  0.1578,  0.1578],\n",
      "          [ 0.1578,  0.1578,  0.1578,  ...,  0.1578,  0.1578,  0.1578],\n",
      "          [ 0.1578,  0.1578,  0.1578,  ...,  0.1578,  0.1578,  0.1578]]],\n",
      "\n",
      "\n",
      "        [[[ 0.1882,  0.1882,  0.1882,  ...,  0.1882,  0.1882,  0.1882],\n",
      "          [ 0.1882,  0.1882,  0.1882,  ...,  0.1882,  0.1882,  0.1882],\n",
      "          [ 0.1882,  0.1882,  0.1882,  ...,  0.1882,  0.1882,  0.1882],\n",
      "          ...,\n",
      "          [ 0.1882,  0.1882,  0.1882,  ...,  0.1882,  0.1882,  0.1882],\n",
      "          [ 0.1882,  0.1882,  0.1882,  ...,  0.1882,  0.1882,  0.1882],\n",
      "          [ 0.1882,  0.1882,  0.1882,  ...,  0.1882,  0.1882,  0.1882]],\n",
      "\n",
      "         [[ 0.1637,  0.1637,  0.1637,  ...,  0.1637,  0.1637,  0.1637],\n",
      "          [ 0.1637,  0.1637,  0.1637,  ...,  0.1637,  0.1637,  0.1637],\n",
      "          [ 0.1637,  0.1637,  0.1637,  ...,  0.1637,  0.1637,  0.1637],\n",
      "          ...,\n",
      "          [ 0.1637,  0.1637,  0.1637,  ...,  0.1637,  0.1637,  0.1637],\n",
      "          [ 0.1637,  0.1637,  0.1637,  ...,  0.1637,  0.1637,  0.1637],\n",
      "          [ 0.1637,  0.1637,  0.1637,  ...,  0.1637,  0.1637,  0.1637]],\n",
      "\n",
      "         [[-0.0040, -0.0040, -0.0040,  ..., -0.0040, -0.0040, -0.0040],\n",
      "          [-0.0040, -0.0040, -0.0040,  ..., -0.0040, -0.0040, -0.0040],\n",
      "          [-0.0040, -0.0040, -0.0040,  ..., -0.0040, -0.0040, -0.0040],\n",
      "          ...,\n",
      "          [-0.0040, -0.0040, -0.0040,  ..., -0.0040, -0.0040, -0.0040],\n",
      "          [-0.0040, -0.0040, -0.0040,  ..., -0.0040, -0.0040, -0.0040],\n",
      "          [-0.0040, -0.0040, -0.0040,  ..., -0.0040, -0.0040, -0.0040]],\n",
      "\n",
      "         [[ 0.1570,  0.1570,  0.1570,  ...,  0.1570,  0.1570,  0.1570],\n",
      "          [ 0.1570,  0.1570,  0.1570,  ...,  0.1570,  0.1570,  0.1570],\n",
      "          [ 0.1570,  0.1570,  0.1570,  ...,  0.1570,  0.1570,  0.1570],\n",
      "          ...,\n",
      "          [ 0.1570,  0.1570,  0.1570,  ...,  0.1570,  0.1570,  0.1570],\n",
      "          [ 0.1570,  0.1570,  0.1570,  ...,  0.1570,  0.1570,  0.1570],\n",
      "          [ 0.1570,  0.1570,  0.1570,  ...,  0.1570,  0.1570,  0.1570]],\n",
      "\n",
      "         [[ 0.1301,  0.1301,  0.1301,  ...,  0.1301,  0.1301,  0.1301],\n",
      "          [ 0.1301,  0.1301,  0.1301,  ...,  0.1301,  0.1301,  0.1301],\n",
      "          [ 0.1301,  0.1301,  0.1301,  ...,  0.1301,  0.1301,  0.1301],\n",
      "          ...,\n",
      "          [ 0.1301,  0.1301,  0.1301,  ...,  0.1301,  0.1301,  0.1301],\n",
      "          [ 0.1301,  0.1301,  0.1301,  ...,  0.1301,  0.1301,  0.1301],\n",
      "          [ 0.1301,  0.1301,  0.1301,  ...,  0.1301,  0.1301,  0.1301]],\n",
      "\n",
      "         [[ 0.1578,  0.1578,  0.1578,  ...,  0.1578,  0.1578,  0.1578],\n",
      "          [ 0.1578,  0.1578,  0.1578,  ...,  0.1578,  0.1578,  0.1578],\n",
      "          [ 0.1578,  0.1578,  0.1578,  ...,  0.1578,  0.1578,  0.1578],\n",
      "          ...,\n",
      "          [ 0.1578,  0.1578,  0.1578,  ...,  0.1578,  0.1578,  0.1578],\n",
      "          [ 0.1578,  0.1578,  0.1578,  ...,  0.1578,  0.1578,  0.1578],\n",
      "          [ 0.1578,  0.1578,  0.1578,  ...,  0.1578,  0.1578,  0.1578]]]],\n",
      "       grad_fn=<MkldnnConvolutionBackward>)\n"
     ]
    }
   ],
   "source": [
    "print(out)"
   ]
  },
  {
   "cell_type": "code",
   "execution_count": 27,
   "metadata": {
    "colab": {
     "base_uri": "https://localhost:8080/",
     "height": 850
    },
    "colab_type": "code",
    "id": "ZiYvD0l7Rhma",
    "outputId": "bc158ce1-df82-4eef-dd18-92f64a82d176"
   },
   "outputs": [
    {
     "name": "stdout",
     "output_type": "stream",
     "text": [
      "tensor([[[0, 0, 0,  ..., 0, 0, 0],\n",
      "         [0, 0, 0,  ..., 0, 0, 0],\n",
      "         [0, 0, 0,  ..., 0, 0, 0],\n",
      "         ...,\n",
      "         [0, 0, 0,  ..., 0, 0, 0],\n",
      "         [0, 0, 0,  ..., 0, 0, 0],\n",
      "         [0, 0, 0,  ..., 0, 0, 0]],\n",
      "\n",
      "        [[0, 0, 0,  ..., 0, 0, 0],\n",
      "         [0, 0, 0,  ..., 0, 0, 0],\n",
      "         [0, 0, 0,  ..., 0, 0, 0],\n",
      "         ...,\n",
      "         [0, 0, 0,  ..., 0, 0, 0],\n",
      "         [0, 0, 0,  ..., 0, 0, 0],\n",
      "         [0, 0, 0,  ..., 0, 0, 0]],\n",
      "\n",
      "        [[0, 0, 0,  ..., 0, 0, 0],\n",
      "         [0, 0, 0,  ..., 0, 0, 0],\n",
      "         [0, 0, 0,  ..., 0, 0, 0],\n",
      "         ...,\n",
      "         [0, 0, 0,  ..., 0, 0, 0],\n",
      "         [0, 0, 0,  ..., 0, 0, 0],\n",
      "         [0, 0, 0,  ..., 0, 0, 0]],\n",
      "\n",
      "        ...,\n",
      "\n",
      "        [[0, 0, 0,  ..., 0, 0, 0],\n",
      "         [0, 0, 0,  ..., 0, 0, 0],\n",
      "         [0, 0, 0,  ..., 0, 0, 0],\n",
      "         ...,\n",
      "         [0, 0, 0,  ..., 0, 0, 0],\n",
      "         [0, 0, 0,  ..., 0, 0, 0],\n",
      "         [0, 0, 0,  ..., 0, 0, 0]],\n",
      "\n",
      "        [[0, 0, 0,  ..., 0, 0, 0],\n",
      "         [0, 0, 0,  ..., 0, 0, 0],\n",
      "         [0, 0, 0,  ..., 0, 0, 0],\n",
      "         ...,\n",
      "         [0, 0, 0,  ..., 0, 0, 0],\n",
      "         [0, 0, 0,  ..., 0, 0, 0],\n",
      "         [0, 0, 0,  ..., 0, 0, 0]],\n",
      "\n",
      "        [[0, 0, 0,  ..., 0, 0, 0],\n",
      "         [0, 0, 0,  ..., 0, 0, 0],\n",
      "         [0, 0, 0,  ..., 0, 0, 0],\n",
      "         ...,\n",
      "         [0, 0, 0,  ..., 0, 0, 0],\n",
      "         [0, 0, 0,  ..., 0, 0, 0],\n",
      "         [0, 0, 0,  ..., 0, 0, 0]]])\n"
     ]
    }
   ],
   "source": [
    "max_values, pred_class = torch.max(out.data, 1)\n",
    "print(pred_class)"
   ]
  },
  {
   "cell_type": "markdown",
   "metadata": {
    "colab_type": "text",
    "id": "lOQGdybZRQqk"
   },
   "source": [
    "## Training LeNet"
   ]
  },
  {
   "cell_type": "code",
   "execution_count": 0,
   "metadata": {
    "colab": {},
    "colab_type": "code",
    "id": "ylTZodUuV1eb"
   },
   "outputs": [],
   "source": [
    "class LeNet(nn.Module):\n",
    "    def __init__(self): \n",
    "        super(LeNet, self).__init__()\n",
    "        self.cnn_model = nn.Sequential(\n",
    "            nn.Conv2d(1,6,5,padding=(2,2))     ,       #(N,1,28,28)->(N,6,28,28)\n",
    "            nn.ReLU(),\n",
    "            nn.AvgPool2d(2, stride=2),  # (N, 6, 28, 28) -> (N,  6, 14, 14)\n",
    "            nn.Conv2d(6, 16, 5),        # (N, 6, 14, 14) -> (N, 16, 10, 10)  \n",
    "            nn.ReLU(),\n",
    "            nn.AvgPool2d(2, stride=2)   # (N,16, 10, 10) -> (N, 16, 5, 5)\n",
    "        )\n",
    "        self.fc_model = nn.Sequential(\n",
    "            nn.Linear(400,120),         # (N, 400) -> (N, 120)\n",
    "            nn.ReLU(),\n",
    "            nn.Linear(120,84),          # (N, 120) -> (N, 84)\n",
    "            nn.ReLU(),\n",
    "            nn.Linear(84,10)            # (N, 84)  -> (N, 10)\n",
    "        )\n",
    "        \n",
    "    def forward(self, x):\n",
    "        x = self.cnn_model(x)\n",
    "        x = x.view(x.size(0), -1)\n",
    "        x = self.fc_model(x)\n",
    "        return x"
   ]
  },
  {
   "cell_type": "code",
   "execution_count": 0,
   "metadata": {
    "colab": {},
    "colab_type": "code",
    "id": "GOWc4kya8UDC"
   },
   "outputs": [],
   "source": [
    "batch_size = 128\n",
    "trainset = torchvision.datasets.MNIST(root='./data', train=True, download=True, transform=transforms.ToTensor())\n",
    "trainloader = torch.utils.data.DataLoader(trainset, batch_size=batch_size, shuffle=True)\n",
    "testset = torchvision.datasets.MNIST(root='./data', train=False, download=True, transform=transforms.ToTensor())\n",
    "testloader = torch.utils.data.DataLoader(testset, batch_size=batch_size, shuffle=False)"
   ]
  },
  {
   "cell_type": "code",
   "execution_count": 0,
   "metadata": {
    "colab": {},
    "colab_type": "code",
    "id": "x9ehrnaHHZoj"
   },
   "outputs": [],
   "source": [
    "def evaluation(dataloader):\n",
    "    total, correct = 0, 0\n",
    "    for data in dataloader:\n",
    "        inputs, labels = data\n",
    "        outputs = net(inputs)\n",
    "        _, pred = torch.max(outputs.data, 1)\n",
    "        total += labels.size(0)\n",
    "        correct += (pred == labels).sum().item()\n",
    "    return 100 * correct / total"
   ]
  },
  {
   "cell_type": "code",
   "execution_count": 0,
   "metadata": {
    "colab": {},
    "colab_type": "code",
    "id": "3pYTvSvD2TwM"
   },
   "outputs": [],
   "source": [
    "net = LeNet()"
   ]
  },
  {
   "cell_type": "code",
   "execution_count": 0,
   "metadata": {
    "colab": {},
    "colab_type": "code",
    "id": "2T6Wzz7J2xq3"
   },
   "outputs": [],
   "source": [
    "import torch.optim as optim\n",
    "\n",
    "loss_fn = nn.CrossEntropyLoss()\n",
    "opt = optim.Adam(net.parameters(),weight_decay=1e-5)"
   ]
  },
  {
   "cell_type": "code",
   "execution_count": 33,
   "metadata": {
    "colab": {
     "base_uri": "https://localhost:8080/",
     "height": 575
    },
    "colab_type": "code",
    "id": "a0LnxsXi6Cgt",
    "outputId": "872a706f-ceb5-42ab-be0a-d689880d6ca6"
   },
   "outputs": [
    {
     "name": "stdout",
     "output_type": "stream",
     "text": [
      "Epoch: 0/16, Test acc: 95.03, Train acc: 94.80\n",
      "Epoch: 1/16, Test acc: 97.17, Train acc: 97.04\n",
      "Epoch: 2/16, Test acc: 97.50, Train acc: 97.64\n",
      "Epoch: 3/16, Test acc: 98.24, Train acc: 98.23\n",
      "Epoch: 4/16, Test acc: 98.56, Train acc: 98.68\n",
      "Epoch: 5/16, Test acc: 98.50, Train acc: 98.84\n",
      "Epoch: 6/16, Test acc: 98.77, Train acc: 99.08\n",
      "Epoch: 7/16, Test acc: 98.74, Train acc: 99.05\n",
      "Epoch: 8/16, Test acc: 98.90, Train acc: 99.26\n",
      "Epoch: 9/16, Test acc: 98.87, Train acc: 99.32\n",
      "Epoch: 10/16, Test acc: 98.91, Train acc: 99.44\n",
      "Epoch: 11/16, Test acc: 98.29, Train acc: 98.97\n",
      "Epoch: 12/16, Test acc: 98.75, Train acc: 99.53\n",
      "Epoch: 13/16, Test acc: 98.80, Train acc: 99.28\n",
      "Epoch: 14/16, Test acc: 99.05, Train acc: 99.71\n",
      "Epoch: 15/16, Test acc: 98.73, Train acc: 99.52\n"
     ]
    },
    {
     "data": {
      "image/png": "[encoded data removed]",
      "text/plain": [
       "<Figure size 432x288 with 1 Axes>"
      ]
     },
     "metadata": {
      "tags": []
     },
     "output_type": "display_data"
    },
    {
     "name": "stdout",
     "output_type": "stream",
     "text": [
      "CPU times: user 7min 17s, sys: 10.2 s, total: 7min 27s\n",
      "Wall time: 7min 28s\n"
     ]
    }
   ],
   "source": [
    "%%time\n",
    "loss_arr = []\n",
    "loss_epoch_arr = []\n",
    "max_epochs = 16\n",
    "\n",
    "for epoch in range(max_epochs):\n",
    "\n",
    "    for i, data in enumerate(trainloader, 0):\n",
    "\n",
    "        inputs, labels = data\n",
    "\n",
    "        opt.zero_grad()\n",
    "\n",
    "        outputs = net(inputs)\n",
    "        loss = loss_fn(outputs, labels)\n",
    "        loss.backward()\n",
    "        opt.step()\n",
    "        \n",
    "        loss_arr.append(loss.item())\n",
    "        \n",
    "    loss_epoch_arr.append(loss.item())\n",
    "        \n",
    "    print('Epoch: %d/%d, Test acc: %0.2f, Train acc: %0.2f' % (epoch, max_epochs, evaluation(testloader), evaluation(trainloader)))\n",
    "    \n",
    "    \n",
    "plt.plot(loss_epoch_arr)\n",
    "plt.show()"
   ]
  },
  {
   "cell_type": "markdown",
   "metadata": {
    "colab_type": "text",
    "id": "ECHeB_BUTHl5"
   },
   "source": [
    "## Move to GPU"
   ]
  },
  {
   "cell_type": "code",
   "execution_count": 34,
   "metadata": {
    "colab": {
     "base_uri": "https://localhost:8080/",
     "height": 34
    },
    "colab_type": "code",
    "id": "Mj0-Y6zJTJ5z",
    "outputId": "5e715f03-4a7b-475e-b00f-75310f778eac"
   },
   "outputs": [
    {
     "name": "stdout",
     "output_type": "stream",
     "text": [
      "cuda:0\n"
     ]
    }
   ],
   "source": [
    "device = torch.device(\"cuda:0\" if torch.cuda.is_available() else \"cpu\")\n",
    "print(device)"
   ]
  },
  {
   "cell_type": "code",
   "execution_count": 0,
   "metadata": {
    "colab": {},
    "colab_type": "code",
    "id": "n4fHbz2fTNpR"
   },
   "outputs": [],
   "source": [
    "def evaluation(dataloader):\n",
    "    total, correct = 0, 0\n",
    "    for data in dataloader:\n",
    "        inputs, labels = data\n",
    "        inputs, labels = inputs.to(device), labels.to(device)\n",
    "        outputs = net(inputs)\n",
    "        _, pred = torch.max(outputs.data, 1)\n",
    "        total += labels.size(0)\n",
    "        correct += (pred == labels).sum().item()\n",
    "    return 100 * correct / total"
   ]
  },
  {
   "cell_type": "code",
   "execution_count": 0,
   "metadata": {
    "colab": {},
    "colab_type": "code",
    "id": "mnxecsfVTQH-"
   },
   "outputs": [],
   "source": [
    "net = LeNet().to(device)\n",
    "loss_fn = nn.CrossEntropyLoss()\n",
    "opt = optim.Adam(net.parameters(),weight_decay=1e-3)"
   ]
  },
  {
   "cell_type": "code",
   "execution_count": 37,
   "metadata": {
    "colab": {
     "base_uri": "https://localhost:8080/",
     "height": 323
    },
    "colab_type": "code",
    "id": "i9t3Js-XTWkf",
    "outputId": "49680ab5-fa22-4420-fb71-0a2d8bbb7f50"
   },
   "outputs": [
    {
     "name": "stdout",
     "output_type": "stream",
     "text": [
      "Epoch: 0/16\n",
      "Epoch: 1/16\n",
      "Epoch: 2/16\n",
      "Epoch: 3/16\n",
      "Epoch: 4/16\n",
      "Epoch: 5/16\n",
      "Epoch: 6/16\n",
      "Epoch: 7/16\n",
      "Epoch: 8/16\n",
      "Epoch: 9/16\n",
      "Epoch: 10/16\n",
      "Epoch: 11/16\n",
      "Epoch: 12/16\n",
      "Epoch: 13/16\n",
      "Epoch: 14/16\n",
      "Epoch: 15/16\n",
      "CPU times: user 1min 25s, sys: 1.57 s, total: 1min 26s\n",
      "Wall time: 1min 26s\n"
     ]
    }
   ],
   "source": [
    "%%time\n",
    "max_epochs = 16\n",
    "\n",
    "for epoch in range(max_epochs):\n",
    "\n",
    "    for i, data in enumerate(trainloader, 0):\n",
    "\n",
    "        inputs, labels = data\n",
    "        inputs, labels = inputs.to(device), labels.to(device)\n",
    "\n",
    "        opt.zero_grad()\n",
    "\n",
    "        outputs = net(inputs)\n",
    "        loss = loss_fn(outputs, labels)\n",
    "        loss.backward()\n",
    "        opt.step()\n",
    "        \n",
    "    print('Epoch: %d/%d' % (epoch, max_epochs))"
   ]
  },
  {
   "cell_type": "code",
   "execution_count": 38,
   "metadata": {
    "colab": {
     "base_uri": "https://localhost:8080/",
     "height": 34
    },
    "colab_type": "code",
    "id": "1mao_iiQZVlE",
    "outputId": "0bcd6d81-d830-4a9b-8653-cce9c12311c8"
   },
   "outputs": [
    {
     "name": "stdout",
     "output_type": "stream",
     "text": [
      "Test acc: 98.57, Train acc: 98.73\n"
     ]
    }
   ],
   "source": [
    "print('Test acc: %0.2f, Train acc: %0.2f' % (evaluation(testloader), evaluation(trainloader)))"
   ]
  },
  {
   "cell_type": "markdown",
   "metadata": {
    "colab_type": "text",
    "id": "Fq5T-KsjTEUQ"
   },
   "source": [
    "## Basic Visualisation"
   ]
  },
  {
   "cell_type": "code",
   "execution_count": 39,
   "metadata": {
    "colab": {
     "base_uri": "https://localhost:8080/",
     "height": 269
    },
    "colab_type": "code",
    "id": "LWfeXhrzSFSc",
    "outputId": "40b96aae-83ae-4a2a-8bcc-64f83d756dab"
   },
   "outputs": [
    {
     "data": {
      "image/png": "[encoded data removed]",
      "text/plain": [
       "<Figure size 432x288 with 1 Axes>"
      ]
     },
     "metadata": {
      "tags": []
     },
     "output_type": "display_data"
    }
   ],
   "source": [
    "imshow(torchvision.utils.make_grid(images))"
   ]
  },
  {
   "cell_type": "code",
   "execution_count": 0,
   "metadata": {
    "colab": {},
    "colab_type": "code",
    "id": "DiorUKc-LnWx"
   },
   "outputs": [],
   "source": [
    "net = net.to('cpu')"
   ]
  },
  {
   "cell_type": "code",
   "execution_count": 41,
   "metadata": {
    "colab": {
     "base_uri": "https://localhost:8080/",
     "height": 34
    },
    "colab_type": "code",
    "id": "luNsBRCAKQC_",
    "outputId": "d60a8d36-5baf-4d6b-a8ad-aee4afea4609"
   },
   "outputs": [
    {
     "name": "stdout",
     "output_type": "stream",
     "text": [
      "torch.Size([256, 10])\n"
     ]
    }
   ],
   "source": [
    "out = net(images)\n",
    "print(out.shape)"
   ]
  },
  {
   "cell_type": "code",
   "execution_count": 42,
   "metadata": {
    "colab": {
     "base_uri": "https://localhost:8080/",
     "height": 34
    },
    "colab_type": "code",
    "id": "-38nfaIUKSeF",
    "outputId": "5d39e7ef-bf11-4045-8f94-5cc92fd7fe7b"
   },
   "outputs": [
    {
     "data": {
      "text/plain": [
       "torch.Size([256, 6, 28, 28])"
      ]
     },
     "execution_count": 42,
     "metadata": {
      "tags": []
     },
     "output_type": "execute_result"
    }
   ],
   "source": [
    "out = net.cnn_model[0](images)\n",
    "out.shape"
   ]
  },
  {
   "cell_type": "code",
   "execution_count": 45,
   "metadata": {
    "colab": {
     "base_uri": "https://localhost:8080/",
     "height": 51
    },
    "colab_type": "code",
    "id": "Gqj4_qG1KYcO",
    "outputId": "5fcf0104-ee89-48d7-b9dd-a1abf8c471f9"
   },
   "outputs": [
    {
     "data": {
      "text/plain": [
       "<Figure size 144x144 with 0 Axes>"
      ]
     },
     "execution_count": 45,
     "metadata": {
      "tags": []
     },
     "output_type": "execute_result"
    },
    {
     "data": {
      "text/plain": [
       "<Figure size 144x144 with 0 Axes>"
      ]
     },
     "metadata": {
      "tags": []
     },
     "output_type": "display_data"
    }
   ],
   "source": [
    "image_id = 3\n",
    "plt.figure(figsize = (2,2))\n"
   ]
  },
  {
   "cell_type": "code",
   "execution_count": 46,
   "metadata": {
    "colab": {
     "base_uri": "https://localhost:8080/",
     "height": 449
    },
    "colab_type": "code",
    "id": "19iXHHLitP2D",
    "outputId": "88b98ebd-58ae-4c9c-e757-eae0debae608"
   },
   "outputs": [
    {
     "name": "stderr",
     "output_type": "stream",
     "text": [
      "/usr/local/lib/python3.6/dist-packages/matplotlib/figure.py:98: MatplotlibDeprecationWarning: \n",
      "Adding an axes using the same arguments as a previous axes currently reuses the earlier instance.  In a future version, a new instance will always be created and returned.  Meanwhile, this warning can be suppressed, and the future behavior ensured, by passing a unique label to each axes instance.\n",
      "  \"Adding an axes using the same arguments as a previous axes \"\n"
     ]
    },
    {
     "data": {
      "image/png": "[encoded data removed]",
      "text/plain": [
       "<Figure size 432x432 with 6 Axes>"
      ]
     },
     "metadata": {
      "tags": []
     },
     "output_type": "display_data"
    }
   ],
   "source": [
    "plt.figure(figsize = (6,6))\n",
    "plt.subplot(321)\n",
    "for i in range(6):\n",
    "    ax1 = plt.subplot(3, 2, i+1)\n",
    "    plt.imshow(out[image_id, i, :, :].detach().numpy(), cmap=\"binary\")\n",
    "plt.show()"
   ]
  },
  {
   "cell_type": "code",
   "execution_count": 0,
   "metadata": {
    "colab": {},
    "colab_type": "code",
    "id": "16MQWyKIAA2X"
   },
   "outputs": [],
   "source": [
    "def predict(img):\n",
    "  output=net(img)\n",
    "  _, pred=torch.max(output.data,1)\n",
    "  print(_)\n",
    "  print(pred)"
   ]
  },
  {
   "cell_type": "code",
   "execution_count": 0,
   "metadata": {
    "colab": {},
    "colab_type": "code",
    "id": "_qYDHdidAcWX"
   },
   "outputs": [],
   "source": [
    "x=images[78].reshape(1,1,28,28)"
   ]
  },
  {
   "cell_type": "code",
   "execution_count": 63,
   "metadata": {
    "colab": {
     "base_uri": "https://localhost:8080/",
     "height": 106
    },
    "colab_type": "code",
    "id": "VX3JlFL_BD0M",
    "outputId": "eabaa258-909f-4ccb-a943-6fae8bc7e448"
   },
   "outputs": [
    {
     "data": {
      "image/png": "[encoded data removed]",
      "text/plain": [
       "<Figure size 72x72 with 1 Axes>"
      ]
     },
     "metadata": {
      "tags": []
     },
     "output_type": "display_data"
    }
   ],
   "source": [
    "plt.figure(figsize = (1,1))\n",
    "plt.imshow(x.reshape(28,28))\n",
    "plt.show()"
   ]
  },
  {
   "cell_type": "code",
   "execution_count": 64,
   "metadata": {
    "colab": {
     "base_uri": "https://localhost:8080/",
     "height": 51
    },
    "colab_type": "code",
    "id": "eM9CYu8tAC6q",
    "outputId": "0d243a83-479e-4548-8956-1081141fbac7"
   },
   "outputs": [
    {
     "name": "stdout",
     "output_type": "stream",
     "text": [
      "tensor([8.4212])\n",
      "tensor([7])\n"
     ]
    }
   ],
   "source": [
    "predict(x)"
   ]
  },
  {
   "cell_type": "markdown",
   "metadata": {
    "colab_type": "text",
    "id": "eARYa3OZexaC"
   },
   "source": [
    "## Exercises\n",
    "\n",
    "* Modify LeNet to work with ReLU instead of Tanh -> What is the impact on training time, final loss\n",
    "* We have observed over-fitting -> Use weight_decay in torch.optim to add L2 regularisation\n",
    "* Instead of CIFAR10, use the MNIST data available from `torchvision.datasets.MNIST`. Download and visualise MNIST data.\n",
    "* But importantly MNIST images have only 1 channel instead of 3 channels in the case of CIFAR10. Modify LeNet to work with MNIST. Train and find optimised test accuracy."
   ]
  },
  {
   "cell_type": "code",
   "execution_count": 0,
   "metadata": {
    "colab": {},
    "colab_type": "code",
    "id": "EnMyNqhVwrgr"
   },
   "outputs": [],
   "source": []
  }
 ],
 "metadata": {
  "accelerator": "GPU",
  "colab": {
   "collapsed_sections": [],
   "name": "0429_PyTorchCNN_MNIST-1556352430467.ipynb",
   "provenance": [],
   "version": "0.3.2"
  },
  "kernelspec": {
   "display_name": "Python 3",
   "language": "python",
   "name": "python3"
  },
  "language_info": {
   "codemirror_mode": {
    "name": "ipython",
    "version": 3
   },
   "file_extension": ".py",
   "mimetype": "text/x-python",
   "name": "python",
   "nbconvert_exporter": "python",
   "pygments_lexer": "ipython3",
   "version": "3.7.2"
  }
 },
 "nbformat": 4,
 "nbformat_minor": 1
}
