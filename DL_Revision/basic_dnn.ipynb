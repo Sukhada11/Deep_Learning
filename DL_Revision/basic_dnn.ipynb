{
  "nbformat": 4,
  "nbformat_minor": 0,
  "metadata": {
    "colab": {
      "name": "basic_dnn.ipynb",
      "provenance": [],
      "collapsed_sections": []
    },
    "kernelspec": {
      "name": "python3",
      "display_name": "Python 3"
    }
  },
  "cells": [
    {
      "cell_type": "code",
      "metadata": {
        "id": "T2leRdbr7y82",
        "colab_type": "code",
        "colab": {}
      },
      "source": [
        "import numpy as np\n",
        "import matplotlib.pyplot as plt\n",
        "import sklearn\n",
        "import sklearn.datasets\n",
        "import sklearn.linear_model\n",
        "from sklearn.datasets import load_boston\n",
        "\n"
      ],
      "execution_count": 5,
      "outputs": []
    },
    {
      "cell_type": "code",
      "metadata": {
        "id": "56Kkar4h77Hc",
        "colab_type": "code",
        "colab": {}
      },
      "source": [
        ""
      ],
      "execution_count": 9,
      "outputs": []
    },
    {
      "cell_type": "code",
      "metadata": {
        "id": "-QOH4neV_cmj",
        "colab_type": "code",
        "colab": {}
      },
      "source": [
        "X =  np.array([[  1.20444229e+00,   1.58709904e-01,   9.52471960e-02,\n",
        "          3.49178475e-01,   6.94150378e-01,   1.62065038e+00,\n",
        "          1.53856225e+00,   3.63085641e-02,   4.74591109e-01,\n",
        "          1.65695828e-01,   1.66446249e+00,   8.40285720e-01,\n",
        "          2.61695163e-01,   2.31614896e-01,   1.58013020e+00,\n",
        "          6.35509950e-03,   6.80610419e-01,   1.21400432e-01,\n",
        "          1.13281261e+00,   1.61505892e+00,   1.66454441e-01,\n",
        "          1.72438241e+00,   1.88667246e+00,   1.72327227e+00,\n",
        "          1.54661332e+00,   9.84590400e-01,   1.45313345e+00,\n",
        "          7.49043388e-01,   1.45048341e+00,   1.64287865e+00,\n",
        "          1.28141487e+00,   1.59574104e+00,   1.46298294e+00,\n",
        "          1.46629048e+00,   1.54348961e+00,   1.57013416e+00,\n",
        "          1.22995404e+00,   1.31142345e+00,  -1.99364553e+00,\n",
        "          3.94564752e-01,   1.51715449e+00,   1.69169139e+00,\n",
        "          1.74186686e+00,  -2.91373382e+00,   7.52150898e-01,\n",
        "          1.68537303e+00,   3.71160238e-01,  -3.73033884e+00,\n",
        "          3.52484080e-01,  -1.48694206e+00,  -7.45290416e-01,\n",
        "          5.63807442e-01,   1.27093179e+00,   5.35133607e-01,\n",
        "         -1.71330375e-01,  -2.50197293e+00,  -2.63275448e+00,\n",
        "         -3.15561550e+00,  -2.11022490e+00,  -3.51303563e+00,\n",
        "         -3.52018155e-02,  -3.99843114e+00,  -3.08095445e+00,\n",
        "         -1.79023024e+00,  -3.37520544e+00,  -2.38578575e+00,\n",
        "         -3.54741267e+00,  -2.92344384e+00,  -1.01009705e+00,\n",
        "         -3.02185838e-01,  -1.47947199e-01,  -2.41113498e+00,\n",
        "         -3.52065970e+00,  -3.09762480e+00,  -3.86453574e+00,\n",
        "          3.46287902e-02,  -3.81297733e+00,  -2.54941164e+00,\n",
        "         -3.61833546e+00,  -2.31720968e+00,  -3.85843301e+00,\n",
        "         -3.77182528e+00,  -3.22643424e+00,  -2.49748107e+00,\n",
        "         -2.94157976e+00,  -2.91391859e+00,  -3.70623964e+00,\n",
        "         -1.95265709e+00,  -2.66020434e+00,   8.17304141e-01,\n",
        "          1.21768512e+00,  -1.66246175e+00,  -2.75111411e+00,\n",
        "         -3.31873701e+00,  -2.14063182e-01,  -1.09902222e+00,\n",
        "         -1.94767785e+00,  -4.99991014e-01,  -2.52618507e+00,\n",
        "          1.96360773e+00,  -1.02715843e+00,   3.03248341e+00,\n",
        "          1.51559027e+00,   2.21864283e+00,  -2.40385821e+00,\n",
        "          2.00630521e+00,   3.17911628e+00,  -1.45188351e+00,\n",
        "          1.21496393e+00,   2.04613301e+00,  -1.62182614e+00,\n",
        "          3.17993200e+00,   3.96799188e+00,   3.29897728e-01,\n",
        "          4.07816588e+00,  -3.17566012e-01,   3.31129113e+00,\n",
        "         -9.52809386e-01,   3.03768998e+00,   3.55052992e+00,\n",
        "          3.55990775e+00,   2.33663285e+00,   2.31352433e+00,\n",
        "          2.79495212e-01,   1.51862547e-01,   1.96155941e+00,\n",
        "          5.47353260e-01,   3.49044034e+00,   2.72566042e+00,\n",
        "          2.13606508e+00,   3.67042248e+00,   3.92260947e+00,\n",
        "          3.08862031e+00,   1.92948433e+00,   1.38946995e+00,\n",
        "          3.51428218e+00,   1.13035696e+00,   3.33545460e+00,\n",
        "          9.15905230e-03,   1.68097254e+00,   2.30710971e+00,\n",
        "          2.21404832e+00,  -5.31842726e-01,  -3.45874829e-01,\n",
        "         -9.83826601e-02,   6.55029428e-01,   5.83612433e-01,\n",
        "         -7.68172854e-01,  -5.52725703e-02,  -1.25961956e+00,\n",
        "          9.42805936e-01,   3.77681531e+00,  -1.70922458e+00,\n",
        "         -1.08169517e+00,  -1.40307039e+00,  -6.43634519e-01,\n",
        "         -6.32543454e-01,  -8.53713550e-01,  -1.22772526e+00,\n",
        "          9.50740231e-01,  -5.97375125e-01,   5.01933176e-01,\n",
        "         -1.88988467e+00,  -1.23602220e+00,  -1.74861600e+00,\n",
        "         -1.48828262e+00,  -1.27810421e+00,  -1.99338361e+00,\n",
        "         -6.80758371e-02,   1.07968241e+00,  -1.49733014e+00,\n",
        "         -1.02248497e+00,  -6.88068627e-02,  -1.77284297e+00,\n",
        "         -1.42903599e+00,  -1.63191608e+00,  -1.57413453e-01,\n",
        "         -1.69732959e+00,  -7.20691107e-01,  -1.49836618e+00,\n",
        "         -1.53285135e+00,  -7.83079289e-01,  -5.65545945e-01,\n",
        "         -4.28247557e-03,  -9.54816172e-01,  -1.43027299e+00,\n",
        "         -1.99139039e-01,  -3.93228458e-01,  -3.13917579e-01,\n",
        "         -5.55629383e-01,  -5.61729204e-02,  -5.84257606e-02,\n",
        "         -8.07037000e-01,  -1.86016879e-01,  -9.65590226e-03,\n",
        "         -1.52664558e+00,  -2.32543323e-02,  -2.11665124e-02,\n",
        "         -2.37912887e-01,  -5.85846410e-01,  -1.07049581e+00,\n",
        "         -2.32905994e-03,  -9.27980849e-02,  -9.24081181e-01,\n",
        "         -4.27415411e-02,  -7.88306156e-02,  -1.35471230e+00,\n",
        "         -9.64506801e-02,  -4.88903965e-01,  -1.40428145e+00,\n",
        "         -1.03032194e-01,  -1.76823043e+00,  -1.81435331e+00,\n",
        "         -4.03453231e-01,  -1.13007684e+00,  -3.30143778e-01,\n",
        "         -1.03592948e-01,  -1.62823990e+00,  -1.27072988e+00,\n",
        "         -3.24165041e-01,  -8.31515613e-01,  -1.15541550e+00,\n",
        "         -8.81319474e-01,  -5.14135967e-01,  -3.41907953e-01,\n",
        "         -1.50008474e+00,  -1.09546543e+00,  -1.71840632e+00,\n",
        "         -1.68448953e+00,  -1.23608462e+00,  -8.06782295e-01,\n",
        "         -1.06026703e+00,  -1.25449646e+00,  -1.71040125e+00,\n",
        "         -4.54245598e-01,  -1.78717499e+00,  -1.26536725e+00,\n",
        "         -2.93821146e-01,  -4.04645730e-01,   2.03128629e+00,\n",
        "         -1.02564465e+00,  -1.07882287e+00,  -1.48728331e+00,\n",
        "          1.52973464e+00,  -1.39893030e+00,  -3.67322611e-01,\n",
        "         -1.53385549e+00,   1.75371064e+00,  -1.15897743e+00,\n",
        "          2.94968569e+00,  -1.38165997e+00,   2.41200118e+00,\n",
        "          1.48331333e+00,  -1.29300070e+00,   3.02838862e+00,\n",
        "         -1.14374794e+00,  -1.06870636e+00,   2.70728746e+00,\n",
        "         -2.29022863e-01,   1.80385877e-01,   7.87999977e-01,\n",
        "         -1.65291432e-01,   3.73979818e+00,   3.48775653e+00,\n",
        "          2.08377776e+00,   2.36553487e+00,   3.47039369e+00,\n",
        "          2.42914859e+00,   3.90210781e+00,   2.03812322e+00,\n",
        "          4.04388429e+00,   3.15341019e+00,   3.09441731e+00,\n",
        "          1.00077505e+00,   3.22109077e+00,   3.03895157e+00,\n",
        "         -1.10566174e-01,   1.45338553e+00,   3.42704770e+00,\n",
        "          3.16377425e+00,   3.06435279e+00,   2.97153034e+00,\n",
        "          3.66817242e+00,   1.81576373e+00,  -6.52056092e-01,\n",
        "          2.39565436e+00,  -1.83495474e-02,  -1.85426248e+00,\n",
        "         -7.55084589e-02,   3.68327360e+00,   3.01854545e+00,\n",
        "          6.67169560e-01,   3.21959504e+00,   6.71420203e-01,\n",
        "          3.62660798e+00,   3.41692475e+00,  -4.99555802e-01,\n",
        "          2.82564692e+00,   3.67261725e+00,   7.88007167e-01,\n",
        "          3.86155325e+00,  -2.85587710e-01,   2.28420287e+00,\n",
        "          2.81396650e-01,   3.13503544e-01,  -1.43368358e+00,\n",
        "          9.57195160e-01,  -1.85436896e+00,   3.81805817e-01,\n",
        "         -2.78967630e+00,  -3.28548806e+00,  -2.22349866e+00,\n",
        "         -2.78061591e+00,   8.26303188e-01,  -3.72885115e+00,\n",
        "         -1.23292968e+00,  -9.58935652e-01,  -3.85811062e+00,\n",
        "         -3.59301074e+00,  -3.19689248e+00,  -2.12766839e+00,\n",
        "         -2.96424870e+00,  -3.60274154e+00,  -1.17472896e+00,\n",
        "         -2.58752094e+00,  -3.16293962e+00,  -1.72757867e+00,\n",
        "         -3.45341213e+00,  -2.81273166e+00,  -1.03553265e+00,\n",
        "         -3.15675590e-01,  -3.70141041e+00,  -4.21189811e+00,\n",
        "         -2.46094977e+00,  -3.43569797e+00,  -3.34469058e+00,\n",
        "         -1.38193635e+00,  -3.17949403e+00,  -2.42119633e+00,\n",
        "         -1.33643509e+00,  -3.06299272e+00,  -3.56504553e+00,\n",
        "         -3.34451075e+00,   7.77655270e-01,  -2.98030710e+00,\n",
        "         -3.55225078e+00,  -1.82974404e+00,   1.46532816e+00,\n",
        "          1.56688198e+00,  -2.96543364e+00,  -9.60755845e-01,\n",
        "         -3.37890943e+00,   1.47135345e+00,  -3.02829566e+00,\n",
        "          7.50982262e-03,   1.79730919e+00,   3.91077683e-01,\n",
        "          1.63881069e+00,  -8.84278418e-01,   1.56546135e+00,\n",
        "          1.59529239e+00,   1.27139537e+00,   1.40701977e+00,\n",
        "          1.58125802e+00,  -1.72159327e+00,   5.68722722e-01,\n",
        "          1.60960641e+00,   1.70849761e+00,   3.77494361e-02,\n",
        "          1.77885147e+00,   1.57017560e+00,   1.31626221e+00,\n",
        "          1.45580659e+00,   9.95670227e-02,   1.49806312e+00,\n",
        "          1.19805866e+00,   1.30759534e+00,   1.69066279e+00,\n",
        "          1.54457758e+00,   3.36164302e-01,   4.71520896e-01,\n",
        "          1.79332637e+00,   1.75802645e+00,   1.11059510e+00,\n",
        "          2.25410298e-02,   1.03402966e+00,   1.46010385e-01,\n",
        "          1.50301824e+00,   5.29563078e-01,   7.23526086e-01,\n",
        "          1.24444151e+00,   7.11308695e-01,   3.65824427e-02,\n",
        "          5.96719268e-01,   1.77160218e-01,   4.50367941e-01,\n",
        "          3.75726453e-02,   2.13641164e-01,   3.24386893e-01,\n",
        "          7.30780825e-01],\n",
        "       [  3.57611415e+00,  -1.48217090e+00,  -1.27995533e+00,\n",
        "         -2.06437997e+00,   2.88910878e+00,  -4.03512400e+00,\n",
        "          3.24255518e+00,  -8.53952855e-01,   2.47793820e+00,\n",
        "          1.81117216e+00,   3.45270042e+00,  -3.44017638e+00,\n",
        "          2.10549647e+00,   1.81380501e+00,   3.30267114e+00,\n",
        "          4.18131769e-01,   3.09636434e+00,   1.33096004e+00,\n",
        "          3.78708833e+00,   3.67113005e+00,   1.77614048e+00,\n",
        "          2.76152023e+00,   3.25544108e+00,   3.46859174e+00,\n",
        "          2.48644177e+00,   3.77377130e+00,   3.60609974e+00,\n",
        "          3.11254032e+00,   3.57519059e+00,   2.61610253e+00,\n",
        "          3.71658382e+00,   3.70508842e+00,   3.83692688e+00,\n",
        "          4.03764347e+00,   3.66278004e+00,   2.58286653e+00,\n",
        "          3.46644213e+00,   1.81009586e+00,  -1.49385117e+00,\n",
        "          4.15245354e-01,   2.27195929e+00,   3.36955063e+00,\n",
        "          3.12091874e+00,  -1.81920100e+00,   8.92965442e-01,\n",
        "          2.58295944e+00,   3.90987436e-01,  -1.63847358e+00,\n",
        "          3.58745594e-01,  -1.20025645e+00,  -6.62747682e-01,\n",
        "          6.31091667e-01,   1.91148705e+00,   5.61807626e-01,\n",
        "         -1.64789940e-01,  -1.67941725e+00,  -1.52497835e+00,\n",
        "         -1.68684842e+00,  -1.45714301e+00,  -1.77895038e+00,\n",
        "         -3.48915965e-02,  -1.52257926e+00,  -1.66776383e+00,\n",
        "         -1.34036665e+00,  -1.71311210e+00,  -1.51851549e+00,\n",
        "         -1.13514717e+00,  -6.42637843e-01,  -6.83366271e-02,\n",
        "         -2.92017074e-01,  -1.41218116e-01,  -1.50670574e+00,\n",
        "         -1.52995707e+00,  -7.94385720e-01,  -1.39958852e+00,\n",
        "          3.56093081e-02,  -1.79730878e+00,  -5.11392884e-01,\n",
        "         -1.12667182e+00,  -4.21185479e-01,  -1.45669050e+00,\n",
        "         -1.33847132e+00,  -8.16479132e-01,  -4.73790481e-01,\n",
        "         -6.39753507e-01,  -6.34286374e-01,  -1.38061641e+00,\n",
        "         -2.57794858e-01,  -4.47701819e-01,  -4.12904131e-02,\n",
        "         -9.76752768e-02,  -1.78618154e-01,  -5.67541671e-01,\n",
        "         -8.13740301e-01,  -2.63923558e-03,  -7.25097028e-02,\n",
        "         -2.63437687e-01,  -2.06478223e-02,  -4.03305715e-01,\n",
        "         -2.38704899e-01,  -9.51626957e-02,  -7.98991813e-01,\n",
        "         -1.66006988e-01,  -3.64406026e-01,  -3.86024370e-01,\n",
        "         -2.20189574e-01,  -7.75370339e-01,  -1.22170582e-01,\n",
        "         -8.42420756e-02,  -2.98099361e-01,  -1.96869702e-01,\n",
        "         -7.53075017e-01,  -1.46831842e+00,  -9.55610600e-03,\n",
        "         -1.20211122e+00,  -9.60546773e-03,  -8.10882920e-01,\n",
        "         -5.68346353e-02,  -1.67347742e+00,  -1.40460974e+00,\n",
        "         -1.12343152e+00,  -4.04122779e-01,  -1.57164755e+00,\n",
        "         -2.60933944e-01,  -2.62404061e-04,  -1.44902115e+00,\n",
        "         -4.90044260e-01,  -1.85263115e+00,  -5.41699195e-01,\n",
        "         -1.53914207e+00,  -1.68871377e+00,  -1.48674074e+00,\n",
        "         -7.97674459e-01,  -1.39073589e+00,  -1.14367531e+00,\n",
        "         -1.57393834e+00,  -8.87426686e-01,  -1.21102011e+00,\n",
        "         -8.58734620e-03,  -1.19452167e+00,  -1.53428360e+00,\n",
        "         -1.57898433e+00,   5.80732218e-01,   3.71643284e-01,\n",
        "          9.98470127e-02,  -5.86327973e-01,  -5.26306388e-01,\n",
        "          8.87962668e-01,   5.64689692e-02,   1.59318262e+00,\n",
        "         -8.25136845e-01,  -1.20845750e+00,   2.78336582e+00,\n",
        "          3.43105607e+00,   1.88901133e+00,   7.17082698e-01,\n",
        "          7.16776955e-01,   1.00558709e+00,   1.57888938e+00,\n",
        "         -7.97008734e-01,   6.58892564e-01,  -4.71381742e-01,\n",
        "          3.06914837e+00,   1.64172117e+00,   3.43138378e+00,\n",
        "          2.22472260e+00,   3.59356305e+00,   3.82338186e+00,\n",
        "          9.78172883e-01,  -9.08628545e-01,   2.16232645e+00,\n",
        "          3.55191556e+00,  -1.13111936e+00,   3.41399524e+00,\n",
        "          3.33509092e+00,   3.43837535e+00,   1.35204653e+00,\n",
        "          3.76053347e+00,   3.30301665e+00,   3.55267433e+00,\n",
        "          2.37056808e+00,   3.18484540e+00,   2.98100486e+00,\n",
        "          3.10265302e-01,   3.33480741e+00,   3.74789034e+00,\n",
        "          1.75698786e+00,   2.41233915e+00,   2.26160198e+00,\n",
        "          2.84308753e+00,  -8.08464256e-01,   7.97601218e-01,\n",
        "         -3.16602301e+00,  -1.73923341e+00,  -3.03300460e-01,\n",
        "          3.51448929e+00,  -4.48211450e-01,  -6.80222539e-01,\n",
        "         -1.89461587e+00,  -3.09125994e+00,   3.68252461e+00,\n",
        "         -2.48775165e-01,  -1.11264583e+00,  -3.31287149e+00,\n",
        "          9.83064901e-01,  -1.06200552e+00,   3.64306307e+00,\n",
        "          1.23598454e+00,  -2.48635569e+00,  -3.96546091e+00,\n",
        "         -1.30407633e+00,  -2.80700115e+00,  -3.17916299e+00,\n",
        "         -2.34899616e+00,   3.86016046e+00,   2.31046192e+00,\n",
        "         -1.40325115e+00,  -3.22048585e+00,  -3.80050197e+00,\n",
        "          2.25857585e+00,  -3.30857362e+00,  -1.58359847e+00,\n",
        "         -3.47513222e+00,  -2.68758875e+00,  -3.55711876e-01,\n",
        "         -3.74431790e+00,  -3.66810701e+00,  -3.36824403e+00,\n",
        "         -3.76359366e+00,  -3.41537451e+00,  -9.76623415e-01,\n",
        "         -1.29100568e+00,  -1.65608598e+00,  -3.32409572e+00,\n",
        "         -4.96630821e-01,  -3.14165698e+00,  -1.71322197e+00,\n",
        "         -3.05909111e-01,  -4.46777005e-01,   1.45931378e+00,\n",
        "         -1.22812034e+00,  -3.69037212e+00,  -3.47057694e+00,\n",
        "          1.15856433e+00,  -2.03606086e+00,  -3.85511111e-01,\n",
        "         -2.62194406e+00,   1.34798304e+00,  -1.51195709e+00,\n",
        "          1.73829518e+00,  -1.79547235e+00,   1.54317462e+00,\n",
        "          1.10954960e+00,  -1.64931941e+00,   1.75797432e+00,\n",
        "         -1.47251063e+00,  -1.28986402e+00,   1.67620531e+00,\n",
        "         -2.39669870e-01,   1.80650988e-01,   6.91778881e-01,\n",
        "         -1.82942022e-01,   1.63134904e+00,   1.82884977e+00,\n",
        "          1.43428651e+00,   1.60094812e+00,   1.75230668e+00,\n",
        "          4.64326857e-01,   1.43351617e+00,   1.43138441e+00,\n",
        "          1.42782215e+00,   1.73492674e+00,   1.70395009e+00,\n",
        "          7.47685370e-02,   1.82710034e+00,   1.70923867e+00,\n",
        "         -1.11868340e-01,   1.14112185e+00,   9.82679506e-01,\n",
        "          1.69883486e+00,   7.33791653e-01,   1.80316095e+00,\n",
        "          1.81840953e+00,   2.85892703e-01,   1.09388890e-02,\n",
        "          3.40608544e-01,  -8.22267713e-05,   2.09582869e-01,\n",
        "         -3.52827719e-04,   1.47413722e+00,   6.19443662e-01,\n",
        "          2.64445438e-02,   7.63859684e-01,   2.95005667e-02,\n",
        "          1.68281773e+00,   9.40761147e-01,   9.24913182e-03,\n",
        "          1.61411623e+00,   1.04594113e+00,   3.45145694e-02,\n",
        "          1.49077794e+00,   7.29051825e-04,   3.52475534e-01,\n",
        "          1.00877527e-02,   4.27419191e-03,   1.31839708e-01,\n",
        "          4.14122283e-02,   1.91933665e-01,   7.39039595e-03,\n",
        "          6.46626879e-01,   1.67303451e+00,   4.21369487e-01,\n",
        "          5.56612529e-01,   4.42761985e-02,   1.29232912e+00,\n",
        "          7.28430003e-02,   6.19710137e-02,   1.42351448e+00,\n",
        "          1.08735728e+00,   1.72484190e+00,   1.38667445e+00,\n",
        "          5.90891086e-01,   1.29900039e+00,   9.65871130e-01,\n",
        "          1.56881569e+00,   1.76930017e+00,   1.29792183e+00,\n",
        "          9.84995600e-01,   1.69277814e+00,   8.93630841e-01,\n",
        "          3.06091086e-01,   1.14596763e+00,   1.91549748e+00,\n",
        "          1.57524026e+00,   1.66266665e+00,   1.59850516e+00,\n",
        "          1.10993370e+00,   1.67500495e+00,   5.25296992e-01,\n",
        "          1.03566638e+00,   1.74435925e+00,   1.81971221e+00,\n",
        "          1.11128726e+00,  -8.89501086e-01,   6.66069451e-01,\n",
        "          1.26100476e+00,   1.36655852e+00,  -2.08468516e+00,\n",
        "         -2.38718334e+00,   1.66924896e+00,   8.49203268e-01,\n",
        "          1.72895893e+00,  -2.25643833e+00,   1.69824962e+00,\n",
        "         -7.63165462e-03,  -3.09272026e+00,  -4.09952810e-01,\n",
        "         -3.79499252e+00,   7.61286324e-01,  -2.30558737e+00,\n",
        "         -3.03467556e+00,  -1.61502125e+00,  -3.90266394e+00,\n",
        "         -2.90841129e+00,   1.31250839e+00,   2.59847860e+00,\n",
        "         -3.50186707e+00,  -2.96039129e+00,  -3.60098795e-02,\n",
        "         -3.27807629e+00,  -2.34587605e+00,  -3.56919962e+00,\n",
        "         -3.51991588e+00,  -1.23848616e+00,  -3.47814659e+00,\n",
        "         -3.65480564e+00,  -3.82629239e+00,  -3.80826364e+00,\n",
        "         -3.56242008e+00,  -2.44646389e+00,  -2.51865217e+00,\n",
        "         -3.70032292e+00,  -2.98399234e+00,  -3.49686963e+00,\n",
        "         -4.88897726e-01,  -3.76272064e+00,   1.42253750e+00,\n",
        "         -3.69488964e+00,  -2.79391432e+00,  -8.53390853e-01,\n",
        "         -3.97467897e+00,  -3.03195393e+00,  -7.20267166e-01,\n",
        "          2.87171160e+00,  -1.53928239e+00,   2.40812143e+00,\n",
        "          8.91600979e-01,   1.73201591e+00,  -2.11632466e+00,\n",
        "          3.06832921e+00]])\n"
      ],
      "execution_count": 12,
      "outputs": []
    },
    {
      "cell_type": "code",
      "metadata": {
        "id": "nBFgtj2a_cu-",
        "colab_type": "code",
        "colab": {}
      },
      "source": [
        "Y = np.array([[0, 0, 0, 0, 0, 0, 0, 0, 0, 0, 0, 0, 0, 0, 0, 0, 0, 0, 0, 0, 0, 0,\n",
        "        0, 0, 0, 0, 0, 0, 0, 0, 0, 0, 0, 0, 0, 0, 0, 0, 0, 0, 0, 0, 0, 0,\n",
        "        0, 0, 0, 0, 0, 0, 0, 0, 0, 0, 0, 0, 0, 0, 0, 0, 0, 0, 0, 0, 0, 0,\n",
        "        0, 0, 0, 0, 0, 0, 0, 0, 0, 0, 0, 0, 0, 0, 0, 0, 0, 0, 0, 0, 0, 0,\n",
        "        0, 0, 0, 0, 0, 0, 0, 0, 0, 0, 0, 0, 0, 0, 0, 0, 0, 0, 0, 0, 0, 0,\n",
        "        0, 0, 0, 0, 0, 0, 0, 0, 0, 0, 0, 0, 0, 0, 0, 0, 0, 0, 0, 0, 0, 0,\n",
        "        0, 0, 0, 0, 0, 0, 0, 0, 0, 0, 0, 0, 0, 0, 0, 0, 0, 0, 0, 0, 0, 0,\n",
        "        0, 0, 0, 0, 0, 0, 0, 0, 0, 0, 0, 0, 0, 0, 0, 0, 0, 0, 0, 0, 0, 0,\n",
        "        0, 0, 0, 0, 0, 0, 0, 0, 0, 0, 0, 0, 0, 0, 0, 0, 0, 0, 0, 0, 0, 0,\n",
        "        0, 0, 1, 1, 1, 1, 1, 1, 1, 1, 1, 1, 1, 1, 1, 1, 1, 1, 1, 1, 1, 1,\n",
        "        1, 1, 1, 1, 1, 1, 1, 1, 1, 1, 1, 1, 1, 1, 1, 1, 1, 1, 1, 1, 1, 1,\n",
        "        1, 1, 1, 1, 1, 1, 1, 1, 1, 1, 1, 1, 1, 1, 1, 1, 1, 1, 1, 1, 1, 1,\n",
        "        1, 1, 1, 1, 1, 1, 1, 1, 1, 1, 1, 1, 1, 1, 1, 1, 1, 1, 1, 1, 1, 1,\n",
        "        1, 1, 1, 1, 1, 1, 1, 1, 1, 1, 1, 1, 1, 1, 1, 1, 1, 1, 1, 1, 1, 1,\n",
        "        1, 1, 1, 1, 1, 1, 1, 1, 1, 1, 1, 1, 1, 1, 1, 1, 1, 1, 1, 1, 1, 1,\n",
        "        1, 1, 1, 1, 1, 1, 1, 1, 1, 1, 1, 1, 1, 1, 1, 1, 1, 1, 1, 1, 1, 1,\n",
        "        1, 1, 1, 1, 1, 1, 1, 1, 1, 1, 1, 1, 1, 1, 1, 1, 1, 1, 1, 1, 1, 1,\n",
        "        1, 1, 1, 1, 1, 1, 1, 1, 1, 1, 1, 1, 1, 1, 1, 1, 1, 1, 1, 1, 1, 1,\n",
        "        1, 1, 1, 1]])"
      ],
      "execution_count": 14,
      "outputs": []
    },
    {
      "cell_type": "code",
      "metadata": {
        "id": "HB97isKx_c1e",
        "colab_type": "code",
        "colab": {
          "base_uri": "https://localhost:8080/",
          "height": 265
        },
        "outputId": "251711dd-c6dd-4f38-832f-cb509ff31893"
      },
      "source": [
        "plt.scatter(X[0, :], X[1, :], c=Y, s=40, cmap=plt.cm.Spectral);"
      ],
      "execution_count": 15,
      "outputs": [
        {
          "output_type": "display_data",
          "data": {
            "image/png": "[encoded data removed]",
            "text/plain": [
              "<Figure size 432x288 with 1 Axes>"
            ]
          },
          "metadata": {
            "tags": [],
            "needs_background": "light"
          }
        }
      ]
    },
    {
      "cell_type": "code",
      "metadata": {
        "id": "zIRwf4JR_c_B",
        "colab_type": "code",
        "colab": {
          "base_uri": "https://localhost:8080/",
          "height": 68
        },
        "outputId": "25456790-7889-411f-a491-5e91ae370aaa"
      },
      "source": [
        "shape_X = X.shape\n",
        "shape_Y = Y.shape\n",
        "m = X.shape[1]\n",
        "\n",
        "print ('The shape of X is: ' + str(shape_X))\n",
        "print ('The shape of Y is: ' + str(shape_Y))\n",
        "print ('I have m = %d training examples!' % (m))"
      ],
      "execution_count": 16,
      "outputs": [
        {
          "output_type": "stream",
          "text": [
            "The shape of X is: (2, 400)\n",
            "The shape of Y is: (1, 400)\n",
            "I have m = 400 training examples!\n"
          ],
          "name": "stdout"
        }
      ]
    },
    {
      "cell_type": "code",
      "metadata": {
        "id": "NgO2gSH__dQ6",
        "colab_type": "code",
        "colab": {}
      },
      "source": [
        "def layer_sizes(X, Y):\n",
        "  \n",
        "    n_x = X.shape[0] # size of input layer\n",
        "    n_h = 4\n",
        "    n_y = Y.shape[0] # size of output layer\n",
        "   \n",
        "    return (n_x, n_h, n_y)"
      ],
      "execution_count": 17,
      "outputs": []
    },
    {
      "cell_type": "code",
      "metadata": {
        "id": "1WALrmo3CX49",
        "colab_type": "code",
        "colab": {
          "base_uri": "https://localhost:8080/",
          "height": 68
        },
        "outputId": "85314472-179e-41d4-cd7d-b4d85be3f809"
      },
      "source": [
        "(n_x, n_h, n_y) = layer_sizes(X, Y)\n",
        "print(\"The size of the input layer is: n_x = \" + str(n_x))\n",
        "print(\"The size of the hidden layer is: n_h = \" + str(n_h))\n",
        "print(\"The size of the output layer is: n_y = \" + str(n_y))"
      ],
      "execution_count": 19,
      "outputs": [
        {
          "output_type": "stream",
          "text": [
            "The size of the input layer is: n_x = 2\n",
            "The size of the hidden layer is: n_h = 4\n",
            "The size of the output layer is: n_y = 1\n"
          ],
          "name": "stdout"
        }
      ]
    },
    {
      "cell_type": "code",
      "metadata": {
        "id": "gY-nQqvcCYDQ",
        "colab_type": "code",
        "colab": {}
      },
      "source": [
        "def initialize_parameters(n_x, n_h, n_y):\n",
        "    \n",
        "\n",
        "    W1 = np.random.randn(n_h,n_x) * 0.01\n",
        "    b1 = np.zeros((n_h,1))\n",
        "    W2 = np.random.randn(n_y,n_h) * 0.01\n",
        "    b2 = np.zeros((n_y,1))\n",
        "    \n",
        "    parameters = {\"W1\": W1,\n",
        "                  \"b1\": b1,\n",
        "                  \"W2\": W2,\n",
        "                  \"b2\": b2}\n",
        "    \n",
        "    return parameters"
      ],
      "execution_count": 22,
      "outputs": []
    },
    {
      "cell_type": "code",
      "metadata": {
        "id": "-98RtD_XCYA2",
        "colab_type": "code",
        "colab": {
          "base_uri": "https://localhost:8080/",
          "height": 187
        },
        "outputId": "8e9e1611-acee-42a6-d644-7e4278e53fe0"
      },
      "source": [
        "parameters = initialize_parameters(n_x, n_h, n_y)\n",
        "print(\"W1 = \" + str(parameters[\"W1\"]))\n",
        "print(\"b1 = \" + str(parameters[\"b1\"]))\n",
        "print(\"W2 = \" + str(parameters[\"W2\"]))\n",
        "print(\"b2 = \" + str(parameters[\"b2\"]))"
      ],
      "execution_count": 25,
      "outputs": [
        {
          "output_type": "stream",
          "text": [
            "W1 = [[ 0.00749828  0.00234789]\n",
            " [-0.00098583 -0.0130742 ]\n",
            " [-0.00433533  0.00027018]\n",
            " [-0.00743636 -0.00214914]]\n",
            "b1 = [[0.]\n",
            " [0.]\n",
            " [0.]\n",
            " [0.]]\n",
            "W2 = [[ 0.00514122 -0.00038644 -0.01208918  0.00673453]]\n",
            "b2 = [[0.]]\n"
          ],
          "name": "stdout"
        }
      ]
    },
    {
      "cell_type": "code",
      "metadata": {
        "id": "_HSJkXW2CX-B",
        "colab_type": "code",
        "colab": {}
      },
      "source": [
        "def forward_propagation(X, parameters):\n",
        "\n",
        "\n",
        "    W1 = parameters[\"W1\"]\n",
        "    b1 = parameters[\"b1\"]\n",
        "    W2 = parameters[\"W2\"]\n",
        "    b2 = parameters[\"b2\"]\n",
        "\n",
        "    Z1 = np.dot(W1, X) + b1\n",
        "    A1 = np.tanh(Z1)\n",
        "    Z2 = np.dot(W2, A1) + b2\n",
        "    A2 = 1/(1 + np.exp(-Z2)) \n",
        "    \n",
        "    cache = {\"Z1\": Z1,\n",
        "             \"A1\": A1,\n",
        "             \"Z2\": Z2,\n",
        "             \"A2\": A2}\n",
        "    \n",
        "    return A2, cache"
      ],
      "execution_count": 30,
      "outputs": []
    },
    {
      "cell_type": "code",
      "metadata": {
        "id": "AL-QYWbQCX8M",
        "colab_type": "code",
        "colab": {}
      },
      "source": [
        "A2, caches = forward_propagation(X, parameters)"
      ],
      "execution_count": 31,
      "outputs": []
    },
    {
      "cell_type": "code",
      "metadata": {
        "id": "0zx3jTpMHT1M",
        "colab_type": "code",
        "colab": {}
      },
      "source": [
        "def compute_cost(A2, Y, parameters):\n",
        "\n",
        "    \n",
        "    m = Y.shape[1] # number of example\n",
        "    logprobs = np.multiply(np.log(A2), Y) + np.multiply((1 - Y), np.log(1 - A2))\n",
        "    cost = -np.sum(logprobs) / m\n",
        "\n",
        "    cost = float(np.squeeze(cost))\n",
        "    \n",
        "    return cost"
      ],
      "execution_count": 32,
      "outputs": []
    },
    {
      "cell_type": "code",
      "metadata": {
        "id": "xLSA1rYJHT4p",
        "colab_type": "code",
        "colab": {}
      },
      "source": [
        "cost = compute_cost(A2,Y,parameters)"
      ],
      "execution_count": 33,
      "outputs": []
    },
    {
      "cell_type": "code",
      "metadata": {
        "id": "qPE8FYIxHT8U",
        "colab_type": "code",
        "colab": {}
      },
      "source": [
        "def backward_propagation(parameters, cache, X, Y):\n",
        "\n",
        "    m = X.shape[1]\n",
        "    \n",
        "\n",
        "    W1 = parameters[\"W1\"]\n",
        "    W2 = parameters[\"W2\"]\n",
        "   \n",
        "    A1 = cache[\"A1\"]\n",
        "    A2 = cache[\"A2\"]\n",
        "    \n",
        "    dZ2 = A2-Y\n",
        "    dW2 = 1/m*(np.dot(dZ2,A1.T))\n",
        "    db2 = 1/m*(np.sum(dZ2,axis=1, keepdims=True))\n",
        "    dZ1 = np.multiply(np.dot(W2.T,dZ2),(1-np.power(A1,2)))\n",
        "    dW1 = 1/m*(np.dot(dZ1,X.T))\n",
        "    db1 = 1/m*(np.sum(dZ1,axis=1, keepdims=True))\n",
        "    \n",
        "    grads = {\"dW1\": dW1,\n",
        "             \"db1\": db1,\n",
        "             \"dW2\": dW2,\n",
        "             \"db2\": db2}\n",
        "    \n",
        "    return grads"
      ],
      "execution_count": 35,
      "outputs": []
    },
    {
      "cell_type": "code",
      "metadata": {
        "id": "HNrOXVadHT_l",
        "colab_type": "code",
        "colab": {}
      },
      "source": [
        ""
      ],
      "execution_count": null,
      "outputs": []
    },
    {
      "cell_type": "code",
      "metadata": {
        "id": "z-fffXwGHUCg",
        "colab_type": "code",
        "colab": {
          "base_uri": "https://localhost:8080/",
          "height": 187
        },
        "outputId": "b0288e3f-d90e-4646-fe55-61a840e8d322"
      },
      "source": [
        "grads = backward_propagation(parameters, caches, X, Y)\n",
        "print (\"dW1 = \"+ str(grads[\"dW1\"]))\n",
        "print (\"db1 = \"+ str(grads[\"db1\"]))\n",
        "print (\"dW2 = \"+ str(grads[\"dW2\"]))\n",
        "print (\"db2 = \"+ str(grads[\"db2\"]))"
      ],
      "execution_count": 37,
      "outputs": [
        {
          "output_type": "stream",
          "text": [
            "dW1 = [[-1.15475263e-04  1.01294526e-03]\n",
            " [ 8.69086678e-06 -7.58709095e-05]\n",
            " [ 2.72233080e-04 -2.38156407e-03]\n",
            " [-1.51290445e-04  1.32688042e-03]]\n",
            "db1 = [[ 2.21871154e-09]\n",
            " [-3.16842765e-09]\n",
            " [-1.33951046e-08]\n",
            " [ 4.21674390e-09]]\n",
            "dW2 = [[ 0.00029379 -0.00255033  0.00015086 -0.00025603]]\n",
            "db2 = [[-4.57696774e-07]]\n"
          ],
          "name": "stdout"
        }
      ]
    },
    {
      "cell_type": "code",
      "metadata": {
        "id": "LyB62LMaI7jy",
        "colab_type": "code",
        "colab": {}
      },
      "source": [
        "def update_parameters(parameters, grads, learning_rate = 1.2):\n",
        "\n",
        "    # Retrieve each parameter from the dictionary \"parameters\"\n",
        "   \n",
        "    W1 = parameters[\"W1\"]\n",
        "    b1 = parameters[\"b1\"]\n",
        "    W2 = parameters[\"W2\"]\n",
        "    b2 = parameters[\"b2\"]\n",
        "    \n",
        "    \n",
        "    # Retrieve each gradient from the dictionary \"grads\"\n",
        " \n",
        "    dW1 = grads[\"dW1\"]\n",
        "    db1 = grads[\"db1\"]\n",
        "    dW2 = grads[\"dW2\"]\n",
        "    db2 = grads[\"db2\"]\n",
        " \n",
        "    \n",
        "    # Update rule for each parameter\n",
        " \n",
        "    W1 = W1 - learning_rate*dW1\n",
        "    b1 = b1 - learning_rate*db1\n",
        "    W2 = W2 - learning_rate*dW2\n",
        "    b2 = b2 - learning_rate*db2\n",
        "  \n",
        "    \n",
        "    parameters = {\"W1\": W1,\n",
        "                  \"b1\": b1,\n",
        "                  \"W2\": W2,\n",
        "                  \"b2\": b2}\n",
        "    \n",
        "    return parameters"
      ],
      "execution_count": 38,
      "outputs": []
    },
    {
      "cell_type": "code",
      "metadata": {
        "id": "uFFdpDJFI7m7",
        "colab_type": "code",
        "colab": {
          "base_uri": "https://localhost:8080/",
          "height": 187
        },
        "outputId": "f2cd7174-1ff1-4f9a-c9dc-8f61c9f3dc9a"
      },
      "source": [
        "parameters = update_parameters(parameters, grads)\n",
        "\n",
        "print(\"W1 = \" + str(parameters[\"W1\"]))\n",
        "print(\"b1 = \" + str(parameters[\"b1\"]))\n",
        "print(\"W2 = \" + str(parameters[\"W2\"]))\n",
        "print(\"b2 = \" + str(parameters[\"b2\"]))"
      ],
      "execution_count": 39,
      "outputs": [
        {
          "output_type": "stream",
          "text": [
            "W1 = [[ 0.00763685  0.00113236]\n",
            " [-0.00099626 -0.01298316]\n",
            " [-0.00466201  0.00312806]\n",
            " [-0.00725481 -0.0037414 ]]\n",
            "b1 = [[-2.66245384e-09]\n",
            " [ 3.80211318e-09]\n",
            " [ 1.60741255e-08]\n",
            " [-5.06009268e-09]]\n",
            "W2 = [[ 0.00478867  0.00267396 -0.01227021  0.00704176]]\n",
            "b2 = [[5.49236129e-07]]\n"
          ],
          "name": "stdout"
        }
      ]
    },
    {
      "cell_type": "code",
      "metadata": {
        "id": "Zzb8PzTDI7s6",
        "colab_type": "code",
        "colab": {}
      },
      "source": [
        "def nn_model(X, Y, n_h, num_iterations=10000, print_cost=False):\n",
        "    \n",
        "    np.random.seed(3)\n",
        "    n_x = layer_sizes(X, Y)[0]\n",
        "    n_y = layer_sizes(X, Y)[2]\n",
        "    \n",
        "    # Initialize parameters, then retrieve W1, b1, W2, b2. Inputs: \"n_x, n_h, n_y\". Outputs = \"W1, b1, W2, b2, parameters\".\n",
        " \n",
        "    parameters = initialize_parameters(n_x, n_h, n_y)\n",
        "    W1 = parameters['W1']\n",
        "    b1 = parameters['b1']\n",
        "    W2 = parameters['W2']\n",
        "    b2 = parameters['b2']\n",
        "  \n",
        "    \n",
        "    # Loop (gradient descent)\n",
        "\n",
        "    for i in range(0, num_iterations):\n",
        "         \n",
        "     \n",
        "        # Forward propagation. Inputs: \"X, parameters\". Outputs: \"A2, cache\".\n",
        "        A2, cache = forward_propagation(X, parameters)\n",
        "        \n",
        "        # Cost function. Inputs: \"A2, Y, parameters\". Outputs: \"cost\".\n",
        "        cost = compute_cost(A2, Y, parameters)\n",
        " \n",
        "        # Backpropagation. Inputs: \"parameters, cache, X, Y\". Outputs: \"grads\".\n",
        "        grads = backward_propagation(parameters, cache, X, Y)\n",
        " \n",
        "        # Gradient descent parameter update. Inputs: \"parameters, grads\". Outputs: \"parameters\".\n",
        "        parameters = update_parameters(parameters, grads)\n",
        "        \n",
        "  \n",
        "        \n",
        "        # Print the cost every 1000 iterations\n",
        "        if print_cost and i % 1000 == 0:\n",
        "            print (\"Cost after iteration %i: %f\" % (i, cost))\n",
        "\n",
        "    return parameters"
      ],
      "execution_count": 40,
      "outputs": []
    },
    {
      "cell_type": "code",
      "metadata": {
        "id": "c1Opnw2rJOtN",
        "colab_type": "code",
        "colab": {
          "base_uri": "https://localhost:8080/",
          "height": 357
        },
        "outputId": "87c73773-d238-47e6-e50d-cc29d80c3cea"
      },
      "source": [
        "parameters = nn_model(X, Y, 4, num_iterations=10000, print_cost=True)\n",
        "print(\"W1 = \" + str(parameters[\"W1\"]))\n",
        "print(\"b1 = \" + str(parameters[\"b1\"]))\n",
        "print(\"W2 = \" + str(parameters[\"W2\"]))\n",
        "print(\"b2 = \" + str(parameters[\"b2\"]))"
      ],
      "execution_count": 42,
      "outputs": [
        {
          "output_type": "stream",
          "text": [
            "Cost after iteration 0: 0.693162\n",
            "Cost after iteration 1000: 0.258625\n",
            "Cost after iteration 2000: 0.239334\n",
            "Cost after iteration 3000: 0.230802\n",
            "Cost after iteration 4000: 0.225528\n",
            "Cost after iteration 5000: 0.221845\n",
            "Cost after iteration 6000: 0.219094\n",
            "Cost after iteration 7000: 0.220619\n",
            "Cost after iteration 8000: 0.219413\n",
            "Cost after iteration 9000: 0.218527\n",
            "W1 = [[ 11.45724138  -3.4170366 ]\n",
            " [  0.15803742  -9.70582826]\n",
            " [ 11.49946112  13.45147475]\n",
            " [  9.2550168  -10.19985407]]\n",
            "b1 = [[ 0.39372727]\n",
            " [-0.09954116]\n",
            " [ 0.03549428]\n",
            " [ 0.09104725]]\n",
            "W2 = [[ -3.45784981 -11.99112772  -6.12680028  10.56871504]]\n",
            "b2 = [[-0.05423757]]\n"
          ],
          "name": "stdout"
        }
      ]
    },
    {
      "cell_type": "code",
      "metadata": {
        "id": "R5wohZPYJOw7",
        "colab_type": "code",
        "colab": {}
      },
      "source": [
        "def predict(parameters, X):\n",
        "    \n",
        "    # Computes probabilities using forward propagation, and classifies to 0/1 using 0.5 as the threshold.\n",
        "   \n",
        "    A2, cache = forward_propagation(X,parameters)\n",
        "    predictions = 1*(A2>0.5)\n",
        " \n",
        "    \n",
        "    return predictions"
      ],
      "execution_count": 43,
      "outputs": []
    },
    {
      "cell_type": "code",
      "metadata": {
        "id": "_NrXu0m7JO0R",
        "colab_type": "code",
        "colab": {
          "base_uri": "https://localhost:8080/",
          "height": 34
        },
        "outputId": "e59bd318-4d1d-4d57-b98c-1ae489ef41f8"
      },
      "source": [
        "\n",
        "\n",
        "predictions = predict(parameters, X)\n",
        "print(\"predictions mean = \" + str(np.mean(predictions)))"
      ],
      "execution_count": 44,
      "outputs": [
        {
          "output_type": "stream",
          "text": [
            "predictions mean = 0.52\n"
          ],
          "name": "stdout"
        }
      ]
    },
    {
      "cell_type": "code",
      "metadata": {
        "id": "ddEfHTxHJTTB",
        "colab_type": "code",
        "colab": {
          "base_uri": "https://localhost:8080/",
          "height": 187
        },
        "outputId": "d3c3be7c-b7d4-4bdd-e421-e26c17a4f4da"
      },
      "source": [
        "\n",
        "parameters = nn_model(X, Y, n_h = 4, num_iterations = 10000, print_cost=True)\n",
        "\n",
        "\n"
      ],
      "execution_count": 47,
      "outputs": [
        {
          "output_type": "stream",
          "text": [
            "Cost after iteration 0: 0.693162\n",
            "Cost after iteration 1000: 0.258625\n",
            "Cost after iteration 2000: 0.239334\n",
            "Cost after iteration 3000: 0.230802\n",
            "Cost after iteration 4000: 0.225528\n",
            "Cost after iteration 5000: 0.221845\n",
            "Cost after iteration 6000: 0.219094\n",
            "Cost after iteration 7000: 0.220619\n",
            "Cost after iteration 8000: 0.219413\n",
            "Cost after iteration 9000: 0.218527\n"
          ],
          "name": "stdout"
        }
      ]
    },
    {
      "cell_type": "code",
      "metadata": {
        "id": "ZSp9Or9GJTWc",
        "colab_type": "code",
        "colab": {
          "base_uri": "https://localhost:8080/",
          "height": 34
        },
        "outputId": "5dfb4a70-2410-4fe4-fdcf-ad29da48dcef"
      },
      "source": [
        "# Print accuracy\n",
        "predictions = predict(parameters, X)\n",
        "print ('Accuracy: %d' % float((np.dot(Y,predictions.T) + np.dot(1-Y,1-predictions.T))/float(Y.size)*100) + '%')"
      ],
      "execution_count": 48,
      "outputs": [
        {
          "output_type": "stream",
          "text": [
            "Accuracy: 90%\n"
          ],
          "name": "stdout"
        }
      ]
    },
    {
      "cell_type": "markdown",
      "metadata": {
        "id": "6p_Pm6CmjtZe",
        "colab_type": "text"
      },
      "source": [
        ""
      ]
    },
    {
      "cell_type": "markdown",
      "metadata": {
        "id": "JVOuAwOKjts5",
        "colab_type": "text"
      },
      "source": [
        ""
      ]
    },
    {
      "cell_type": "code",
      "metadata": {
        "id": "-_hVp5jvJTcm",
        "colab_type": "code",
        "colab": {}
      },
      "source": [
        "def initialize_parameters_deep(layer_dims):\n",
        "   \n",
        "    np.random.seed(3)\n",
        "    parameters = {}\n",
        "    L = len(layer_dims)            # number of layers in the network\n",
        "\n",
        "    for l in range(1, L):\n",
        "       \n",
        "        parameters[\"W\" + str(l)] = np.random.randn(layer_dims[l], layer_dims[l-1]) * 0.01\n",
        "        parameters[\"b\" + str(l)] = np.zeros((layer_dims[l], 1))\n",
        "       \n",
        "        \n",
        "        assert(parameters['W' + str(l)].shape == (layer_dims[l], layer_dims[l-1]))\n",
        "        assert(parameters['b' + str(l)].shape == (layer_dims[l], 1))\n",
        "\n",
        "        \n",
        "    return parameters"
      ],
      "execution_count": 75,
      "outputs": []
    },
    {
      "cell_type": "code",
      "metadata": {
        "id": "3te3QD_9lARt",
        "colab_type": "code",
        "colab": {
          "base_uri": "https://localhost:8080/",
          "height": 187
        },
        "outputId": "7695a051-22a2-417b-f1c0-4ee542f165c9"
      },
      "source": [
        "parameters = initialize_parameters_deep([2,4,1])\n",
        "print(\"W1 = \" + str(parameters[\"W1\"]))\n",
        "print(\"b1 = \" + str(parameters[\"b1\"]))\n",
        "print(\"W2 = \" + str(parameters[\"W2\"]))\n",
        "print(\"b2 = \" + str(parameters[\"b2\"]))"
      ],
      "execution_count": 78,
      "outputs": [
        {
          "output_type": "stream",
          "text": [
            "W1 = [[ 0.01788628  0.0043651 ]\n",
            " [ 0.00096497 -0.01863493]\n",
            " [-0.00277388 -0.00354759]\n",
            " [-0.00082741 -0.00627001]]\n",
            "b1 = [[0.]\n",
            " [0.]\n",
            " [0.]\n",
            " [0.]]\n",
            "W2 = [[-0.00043818 -0.00477218 -0.01313865  0.00884622]]\n",
            "b2 = [[0.]]\n"
          ],
          "name": "stdout"
        }
      ]
    },
    {
      "cell_type": "code",
      "metadata": {
        "id": "dNbH83PiqiS9",
        "colab_type": "code",
        "colab": {}
      },
      "source": [
        "def linear_forward(A, W, b):\n",
        "   \n",
        "    \n",
        "    Z =  np.dot(W, A) + b\n",
        "\n",
        "    \n",
        "    assert(Z.shape == (W.shape[0], A.shape[1]))\n",
        "    cache = (A, W, b)\n",
        "    \n",
        "    return Z, cache"
      ],
      "execution_count": 79,
      "outputs": []
    },
    {
      "cell_type": "code",
      "metadata": {
        "id": "jZDEk6VY14xF",
        "colab_type": "code",
        "colab": {}
      },
      "source": [
        "def sigmoid(Z):\n",
        " \n",
        "    \n",
        "    A = 1/(1+np.exp(-Z))\n",
        "    cache = Z\n",
        "    \n",
        "    return A, cache\n",
        "\n",
        "def relu(Z):\n",
        "  \n",
        "    A = np.maximum(0,Z)\n",
        "    \n",
        "    assert(A.shape == Z.shape)\n",
        "    \n",
        "    cache = Z \n",
        "    return A, cache"
      ],
      "execution_count": 107,
      "outputs": []
    },
    {
      "cell_type": "code",
      "metadata": {
        "id": "sA31A70E3UPT",
        "colab_type": "code",
        "colab": {}
      },
      "source": [
        "\n",
        "def relu_backward(dA, cache):\n",
        "  \n",
        "    \n",
        "    Z = cache\n",
        "    dZ = np.array(dA, copy=True) # just converting dz to a correct object.\n",
        "    \n",
        "    # When z <= 0, you should set dz to 0 as well. \n",
        "    dZ[Z <= 0] = 0\n",
        "    \n",
        "    assert (dZ.shape == Z.shape)\n",
        "    \n",
        "    return dZ\n",
        "\n",
        "def sigmoid_backward(dA, cache):\n",
        " \n",
        "    \n",
        "    Z = cache\n",
        "    \n",
        "    s = 1/(1+np.exp(-Z))\n",
        "    dZ = dA * s * (1-s)\n",
        "    \n",
        "    assert (dZ.shape == Z.shape)\n",
        "    \n",
        "    return dZ"
      ],
      "execution_count": 128,
      "outputs": []
    },
    {
      "cell_type": "code",
      "metadata": {
        "id": "9YNxzotIp6l0",
        "colab_type": "code",
        "colab": {}
      },
      "source": [
        "\n",
        "\n",
        "def linear_activation_forward(A_prev, W, b, activation):\n",
        " \n",
        "    if activation == \"sigmoid\":\n",
        "        # Inputs: \"A_prev, W, b\". Outputs: \"A, activation_cache\".\n",
        "       \n",
        "        Z, linear_cache =linear_forward(A_prev, W, b)\n",
        "        A, activation_cache =sigmoid(Z)\n",
        "        \n",
        "    \n",
        "    elif activation == \"relu\":\n",
        "        # Inputs: \"A_prev, W, b\". Outputs: \"A, activation_cache\".\n",
        "       \n",
        "        Z, linear_cache = linear_forward(A_prev, W,b)\n",
        "        A, activation_cache = relu(Z)\n",
        "     \n",
        "    \n",
        "    assert (A.shape == (W.shape[0], A_prev.shape[1]))\n",
        "    cache = (linear_cache, activation_cache)\n",
        "\n",
        "    return A, cache"
      ],
      "execution_count": 108,
      "outputs": []
    },
    {
      "cell_type": "code",
      "metadata": {
        "id": "wP6ug_DkpZHZ",
        "colab_type": "code",
        "colab": {}
      },
      "source": [
        "def L_model_forward(X, parameters):\n",
        "\n",
        "\n",
        "    caches = []\n",
        "    A = X\n",
        "    L = len(parameters) // 2                  # number of layers in the neural network\n",
        "    \n",
        "    # Implement [LINEAR -> RELU]*(L-1). Add \"cache\" to the \"caches\" list.\n",
        "    for l in range(1, L):\n",
        "        A_prev = A \n",
        "     \n",
        "        A, cache = linear_activation_forward(A_prev, \n",
        "                                             parameters['W' + str(l)], \n",
        "                                             parameters['b' + str(l)], \n",
        "                                             activation='sigmoid')\n",
        "        caches.append(cache)\n",
        "     #\n",
        "    \n",
        "    # Implement LINEAR -> SIGMOID. Add \"cache\" to the \"caches\" list.\n",
        "  \n",
        "    AL, cache = linear_activation_forward(A, \n",
        "                                          parameters['W' + str(L)], \n",
        "                                          parameters['b' + str(L)], \n",
        "                                          activation='relu')\n",
        "    caches.append(cache)\n",
        "   \n",
        "    assert(AL.shape == (1,X.shape[1]))\n",
        "            \n",
        "    return AL, caches"
      ],
      "execution_count": 109,
      "outputs": []
    },
    {
      "cell_type": "code",
      "metadata": {
        "id": "UffDlXRUpxKe",
        "colab_type": "code",
        "colab": {}
      },
      "source": [
        "AL, caches = L_model_forward(X, parameters)"
      ],
      "execution_count": 110,
      "outputs": []
    },
    {
      "cell_type": "code",
      "metadata": {
        "id": "R6BVTTuClAUh",
        "colab_type": "code",
        "colab": {}
      },
      "source": [
        "def compute_cost(AL, Y):\n",
        "\n",
        "    \n",
        "    m = Y.shape[1]\n",
        "\n",
        "    # Compute loss from aL and y.\n",
        "    cost =  (-1/m)* np.sum(np.multiply(Y, np.log(AL)) + np.multiply(1-Y, np.log(1-AL)))\n",
        "    cost = np.squeeze(cost)      # To make sure your cost's shape is what we expect (e.g. this turns [[17]] into 17).\n",
        "    assert(cost.shape == ())\n",
        "    \n",
        "    return cost"
      ],
      "execution_count": 111,
      "outputs": []
    },
    {
      "cell_type": "code",
      "metadata": {
        "id": "hw8XeYGelAXE",
        "colab_type": "code",
        "colab": {
          "base_uri": "https://localhost:8080/",
          "height": 102
        },
        "outputId": "3fe8146e-5961-489d-b14b-b718cacf5bed"
      },
      "source": [
        "\n",
        "cost = compute_cost(AL, Y)\n",
        "print(\"cost = \" + str(compute_cost(AL, Y)))"
      ],
      "execution_count": 112,
      "outputs": [
        {
          "output_type": "stream",
          "text": [
            "cost = nan\n"
          ],
          "name": "stdout"
        },
        {
          "output_type": "stream",
          "text": [
            "/usr/local/lib/python3.6/dist-packages/ipykernel_launcher.py:7: RuntimeWarning: divide by zero encountered in log\n",
            "  import sys\n",
            "/usr/local/lib/python3.6/dist-packages/ipykernel_launcher.py:7: RuntimeWarning: invalid value encountered in multiply\n",
            "  import sys\n"
          ],
          "name": "stderr"
        }
      ]
    },
    {
      "cell_type": "code",
      "metadata": {
        "id": "T8B-Au182XPu",
        "colab_type": "code",
        "colab": {}
      },
      "source": [
        "def linear_activation_backward(dA, cache, activation):\n",
        "\n",
        "    linear_cache, activation_cache = cache\n",
        "    \n",
        "    if activation == \"relu\":\n",
        "        ### START CODE HERE ### (≈ 2 lines of code)\n",
        "        dZ = sigmoid_backward(dA, activation_cache)\n",
        "        dA_prev, dW, db = linear_backward(dZ, linear_cache)\n",
        "        ### END CODE HERE ###\n",
        "        \n",
        "    elif activation == \"sigmoid\":\n",
        "        ### START CODE HERE ### (≈ 2 lines of code)\n",
        "        dZ = relu_backward(dA, activation_cache)\n",
        "        dA_prev, dW, db = linear_backward(dZ, linear_cache)\n",
        "        ### END CODE HERE ###\n",
        "    \n",
        "    return dA_prev, dW, db"
      ],
      "execution_count": 129,
      "outputs": []
    },
    {
      "cell_type": "code",
      "metadata": {
        "id": "NSgBJ1n22sHU",
        "colab_type": "code",
        "colab": {}
      },
      "source": [
        "def linear_backward(dZ, cache):\n",
        "\n",
        "    A_prev, W, b = cache\n",
        "    m = A_prev.shape[1]\n",
        "\n",
        "    ### START CODE HERE ### (≈ 3 lines of code)\n",
        "    dW = (1/m)*np.dot(dZ, A_prev.T)\n",
        "    db = (1/m)*np.sum(dZ, axis=1, keepdims=True)\n",
        "    dA_prev = np.dot(W.T,dZ)\n",
        "    ### END CODE HERE ###\n",
        "    \n",
        "    assert (dA_prev.shape == A_prev.shape)\n",
        "    assert (dW.shape == W.shape)\n",
        "    assert (db.shape == b.shape)\n",
        "    \n",
        "    return dA_prev, dW, db"
      ],
      "execution_count": 130,
      "outputs": []
    },
    {
      "cell_type": "code",
      "metadata": {
        "id": "KN87KqgVlAaD",
        "colab_type": "code",
        "colab": {}
      },
      "source": [
        "def L_model_backward(AL, Y, caches):\n",
        "    \n",
        "    grads = {}\n",
        "    L = len(caches) # the number of layers\n",
        "    m = AL.shape[1]\n",
        "    Y = Y.reshape(AL.shape) # after this line, Y is the same shape as AL\n",
        "    \n",
        "    # Initializing the backpropagation\n",
        "   \n",
        "    dAL = - (np.divide(Y, AL) - np.divide(1 - Y, 1 - AL))\n",
        "\n",
        "    \n",
        "    # Lth layer (SIGMOID -> LINEAR) gradients. Inputs: \"dAL, current_cache\". Outputs: \"grads[\"dAL-1\"], grads[\"dWL\"], grads[\"dbL\"]\n",
        "  \n",
        "    current_cache = caches[L-1]\n",
        "    grads[\"dA\" + str(L-1)], grads[\"dW\" + str(L)], grads[\"db\" + str(L)] = linear_activation_backward(dAL, current_cache, activation = \"sigmoid\")\n",
        " \n",
        "    \n",
        "    # Loop from l=L-2 to l=0\n",
        "    for l in reversed(range(L-1)):\n",
        "        \n",
        "        current_cache = caches[l]\n",
        "        dA_prev_temp, dW_temp, db_temp = linear_activation_backward(grads[\"dA\" + str(l + 1)], current_cache, activation = \"relu\")\n",
        "        \n",
        "        grads[\"dA\" + str(l)] = dA_prev_temp\n",
        "        grads[\"dW\" + str(l + 1)] = dW_temp\n",
        "        grads[\"db\" + str(l + 1)] = db_temp\n",
        "       \n",
        "\n",
        "    return grads"
      ],
      "execution_count": 131,
      "outputs": []
    },
    {
      "cell_type": "code",
      "metadata": {
        "id": "Lehkfp-6lAei",
        "colab_type": "code",
        "colab": {
          "base_uri": "https://localhost:8080/",
          "height": 85
        },
        "outputId": "fa1f5f42-f5ce-4051-ddc6-b37135287130"
      },
      "source": [
        "\n",
        "grads = L_model_backward(AL, Y, caches)\n"
      ],
      "execution_count": 132,
      "outputs": [
        {
          "output_type": "stream",
          "text": [
            "/usr/local/lib/python3.6/dist-packages/ipykernel_launcher.py:10: RuntimeWarning: divide by zero encountered in true_divide\n",
            "  # Remove the CWD from sys.path while we load stuff.\n",
            "/usr/local/lib/python3.6/dist-packages/ipykernel_launcher.py:10: RuntimeWarning: invalid value encountered in true_divide\n",
            "  # Remove the CWD from sys.path while we load stuff.\n"
          ],
          "name": "stderr"
        }
      ]
    },
    {
      "cell_type": "code",
      "metadata": {
        "id": "8AUiNbHOlAiL",
        "colab_type": "code",
        "colab": {}
      },
      "source": [
        "def update_parameters(parameters, grads, learning_rate):\n",
        "   \n",
        "    \n",
        "    L = len(parameters) // 2 # number of layers in the neural network\n",
        "\n",
        "    # Update rule for each parameter. Use a for loop.\n",
        "  \n",
        "    for l in range(L):\n",
        "        parameters[\"W\" + str(l+1)] = parameters[\"W\" + str(l+1)] - learning_rate * grads[\"dW\" + str(l + 1)]\n",
        "        parameters[\"b\" + str(l+1)] = parameters[\"b\" + str(l+1)] - learning_rate * grads[\"db\" + str(l + 1)]\n",
        "   \n",
        "    return parameters"
      ],
      "execution_count": 133,
      "outputs": []
    },
    {
      "cell_type": "code",
      "metadata": {
        "id": "sHL0S65wlAk8",
        "colab_type": "code",
        "colab": {
          "base_uri": "https://localhost:8080/",
          "height": 187
        },
        "outputId": "2ee8297b-4dd7-4393-9b49-905742506b4d"
      },
      "source": [
        "\n",
        "parameters = update_parameters(parameters, grads, 0.1)\n",
        "\n",
        "print (\"W1 = \"+ str(parameters[\"W1\"]))\n",
        "print (\"b1 = \"+ str(parameters[\"b1\"]))\n",
        "print (\"W2 = \"+ str(parameters[\"W2\"]))\n",
        "print (\"b2 = \"+ str(parameters[\"b2\"]))"
      ],
      "execution_count": 135,
      "outputs": [
        {
          "output_type": "stream",
          "text": [
            "W1 = [[ 0.01788628  0.0043651 ]\n",
            " [ 0.00096497 -0.01863493]\n",
            " [-0.00277388 -0.00354759]\n",
            " [-0.00082741 -0.00627001]]\n",
            "b1 = [[0.]\n",
            " [0.]\n",
            " [0.]\n",
            " [0.]]\n",
            "W2 = [[-0.00043818 -0.00477218 -0.01313865  0.00884622]]\n",
            "b2 = [[0.]]\n"
          ],
          "name": "stdout"
        }
      ]
    },
    {
      "cell_type": "code",
      "metadata": {
        "id": "sX-tBQrrlAn4",
        "colab_type": "code",
        "colab": {
          "base_uri": "https://localhost:8080/",
          "height": 34
        },
        "outputId": "b9abdc74-6248-4b1a-8677-9faeb1cd5b98"
      },
      "source": [
        "# Print accuracy\n",
        "predictions = predict(parameters, X)\n",
        "print ('Accuracy: %d' % float((np.dot(Y,predictions.T) + np.dot(1-Y,1-predictions.T))/float(Y.size)*100) + '%')"
      ],
      "execution_count": 136,
      "outputs": [
        {
          "output_type": "stream",
          "text": [
            "Accuracy: 50%\n"
          ],
          "name": "stdout"
        }
      ]
    },
    {
      "cell_type": "code",
      "metadata": {
        "id": "s94DkcRBlAc5",
        "colab_type": "code",
        "colab": {}
      },
      "source": [
        "# GRADED FUNCTION: L_layer_model\n",
        "\n",
        "def L_layer_model(X, Y, layers_dims, learning_rate = 0.0075, num_iterations = 3000, print_cost=False):#lr was 0.009\n",
        "\n",
        "\n",
        "    np.random.seed(1)\n",
        "    costs = []                         # keep track of cost\n",
        "    \n",
        "    # Parameters initialization. (≈ 1 line of code)\n",
        "    ### START CODE HERE ###\n",
        "    parameters = initialize_parameters_deep(layers_dims)\n",
        "    ### END CODE HERE ###\n",
        "    \n",
        "    # Loop (gradient descent)\n",
        "    for i in range(0, num_iterations):\n",
        "\n",
        "        # Forward propagation: [LINEAR -> RELU]*(L-1) -> LINEAR -> SIGMOID.\n",
        "      \n",
        "        AL, caches = L_model_forward(X, parameters)\n",
        "    \n",
        "        \n",
        "        # Compute cost.\n",
        "\n",
        "        cost = compute_cost(AL, Y)\n",
        "\n",
        "    \n",
        "        # Backward propagation.\n",
        "     \n",
        "        grads = L_model_backward(AL, Y, caches)\n",
        "\n",
        " \n",
        "        # Update parameters.\n",
        "     \n",
        "        parameters = update_parameters(parameters, grads, learning_rate)\n",
        "       \n",
        "        # Print the cost every 100 training example\n",
        "        if print_cost and i % 100 == 0:\n",
        "            print (\"Cost after iteration %i: %f\" %(i, cost))\n",
        "        if print_cost and i % 100 == 0:\n",
        "            costs.append(cost)\n",
        "            \n",
        "    # plot the cost\n",
        "    plt.plot(np.squeeze(costs))\n",
        "    plt.ylabel('cost')\n",
        "    plt.xlabel('iterations (per hundreds)')\n",
        "    plt.title(\"Learning rate =\" + str(learning_rate))\n",
        "    plt.show()\n",
        "    \n",
        "    return parameters"
      ],
      "execution_count": 137,
      "outputs": []
    },
    {
      "cell_type": "code",
      "metadata": {
        "id": "9mPmiu180qO5",
        "colab_type": "code",
        "colab": {
          "base_uri": "https://localhost:8080/",
          "height": 856
        },
        "outputId": "f15ad38e-2695-4e7d-d16c-2024e727824f"
      },
      "source": [
        "layers_dims = [2,4,1]\n",
        "parameters = L_layer_model(X,Y, layers_dims, num_iterations = 2500, print_cost = True)"
      ],
      "execution_count": 138,
      "outputs": [
        {
          "output_type": "stream",
          "text": [
            "/usr/local/lib/python3.6/dist-packages/ipykernel_launcher.py:7: RuntimeWarning: divide by zero encountered in log\n",
            "  import sys\n",
            "/usr/local/lib/python3.6/dist-packages/ipykernel_launcher.py:7: RuntimeWarning: invalid value encountered in multiply\n",
            "  import sys\n",
            "/usr/local/lib/python3.6/dist-packages/ipykernel_launcher.py:10: RuntimeWarning: divide by zero encountered in true_divide\n",
            "  # Remove the CWD from sys.path while we load stuff.\n",
            "/usr/local/lib/python3.6/dist-packages/ipykernel_launcher.py:10: RuntimeWarning: invalid value encountered in true_divide\n",
            "  # Remove the CWD from sys.path while we load stuff.\n"
          ],
          "name": "stderr"
        },
        {
          "output_type": "stream",
          "text": [
            "Cost after iteration 0: nan\n",
            "Cost after iteration 100: nan\n",
            "Cost after iteration 200: nan\n",
            "Cost after iteration 300: nan\n",
            "Cost after iteration 400: nan\n",
            "Cost after iteration 500: nan\n",
            "Cost after iteration 600: nan\n",
            "Cost after iteration 700: nan\n",
            "Cost after iteration 800: nan\n",
            "Cost after iteration 900: nan\n",
            "Cost after iteration 1000: nan\n",
            "Cost after iteration 1100: nan\n",
            "Cost after iteration 1200: nan\n",
            "Cost after iteration 1300: nan\n",
            "Cost after iteration 1400: nan\n",
            "Cost after iteration 1500: nan\n",
            "Cost after iteration 1600: nan\n",
            "Cost after iteration 1700: nan\n",
            "Cost after iteration 1800: nan\n",
            "Cost after iteration 1900: nan\n",
            "Cost after iteration 2000: nan\n",
            "Cost after iteration 2100: nan\n",
            "Cost after iteration 2200: nan\n",
            "Cost after iteration 2300: nan\n",
            "Cost after iteration 2400: nan\n"
          ],
          "name": "stdout"
        },
        {
          "output_type": "display_data",
          "data": {
            "image/png": "[encoded data removed]",
            "text/plain": [
              "<Figure size 432x288 with 1 Axes>"
            ]
          },
          "metadata": {
            "tags": [],
            "needs_background": "light"
          }
        }
      ]
    },
    {
      "cell_type": "code",
      "metadata": {
        "id": "1vOUul370qUa",
        "colab_type": "code",
        "colab": {
          "base_uri": "https://localhost:8080/",
          "height": 34
        },
        "outputId": "41916a75-07b9-4b50-a77d-a0c5ec20caf5"
      },
      "source": [
        "# Print accuracy\n",
        "predictions = predict(parameters, X)\n",
        "print ('Accuracy: %d' % float((np.dot(Y,predictions.T) + np.dot(1-Y,1-predictions.T))/float(Y.size)*100) + '%')"
      ],
      "execution_count": 139,
      "outputs": [
        {
          "output_type": "stream",
          "text": [
            "Accuracy: 50%\n"
          ],
          "name": "stdout"
        }
      ]
    },
    {
      "cell_type": "code",
      "metadata": {
        "id": "517vair90qR-",
        "colab_type": "code",
        "colab": {}
      },
      "source": [
        ""
      ],
      "execution_count": null,
      "outputs": []
    }
  ]
}